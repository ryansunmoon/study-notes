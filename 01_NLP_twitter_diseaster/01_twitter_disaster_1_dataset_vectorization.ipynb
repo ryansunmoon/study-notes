{
 "cells": [
  {
   "cell_type": "code",
   "execution_count": 1,
   "id": "fceff85a-1d72-43aa-a358-92dd39b13747",
   "metadata": {},
   "outputs": [],
   "source": [
    "import pandas as pd\n",
    "import tensorflow as tf\n",
    "\n",
    "from tensorflow.keras import layers\n",
    "from tensorflow.keras import losses\n",
    "from tensorflow.keras import preprocessing\n",
    "from tensorflow.keras.layers.experimental.preprocessing import TextVectorization"
   ]
  },
  {
   "cell_type": "markdown",
   "id": "075f4147-da3e-4055-bd5b-08719d6e3fff",
   "metadata": {},
   "source": [
    "# This workbook minic the code from tensorflow tutorial: text_classification; It particularly experiment using the tensorflow "
   ]
  },
  {
   "cell_type": "code",
   "execution_count": 3,
   "id": "8c1dba85-4fba-4e3c-8205-d0d920007c70",
   "metadata": {},
   "outputs": [],
   "source": [
    "df = pd.read_csv('train.csv', dtype =object,  usecols= ['id', 'text', 'target'])\n",
    "df['target'] = df['target'].astype(float)\n",
    "target = df.pop('target')"
   ]
  },
  {
   "cell_type": "code",
   "execution_count": 4,
   "id": "e0668f3c-7596-430c-85b6-e47ccc403640",
   "metadata": {},
   "outputs": [],
   "source": [
    "ds_raw = tf.data.Dataset.from_tensor_slices((df['text'].values, target.values))"
   ]
  },
  {
   "cell_type": "code",
   "execution_count": 306,
   "id": "a69a3f7f-04e2-4029-bb5a-8d275cf1ee35",
   "metadata": {},
   "outputs": [],
   "source": [
    "# def custom_standardization(input_data):\n",
    "#   lowercase = tf.strings.lower(input_data)\n",
    "#   stripped_html = tf.strings.regex_replace(lowercase, '<br />', ' ')\n",
    "#   return tf.strings.regex_replace(stripped_html,\n",
    "#                                   '[%s]' % re.escape(string.punctuation),\n",
    "#                                   '')"
   ]
  },
  {
   "cell_type": "code",
   "execution_count": 5,
   "id": "c19ff148-0e2d-4413-8b96-982d8d048d0c",
   "metadata": {},
   "outputs": [],
   "source": [
    "ds_raw_batch = ds_raw.batch(1)"
   ]
  },
  {
   "cell_type": "code",
   "execution_count": 6,
   "id": "07178a50-4bd3-4913-99a5-8fea31a5fb43",
   "metadata": {},
   "outputs": [
    {
     "data": {
      "text/plain": [
       "<BatchDataset shapes: ((None,), (None,)), types: (tf.string, tf.float64)>"
      ]
     },
     "execution_count": 6,
     "metadata": {},
     "output_type": "execute_result"
    }
   ],
   "source": [
    "ds_raw_batch"
   ]
  },
  {
   "cell_type": "code",
   "execution_count": 7,
   "id": "7db92367-7d48-49d5-8877-5368abbb0939",
   "metadata": {},
   "outputs": [],
   "source": [
    "max_features = 10000\n",
    "sequence_length = 100\n",
    "vectorize_layer = TextVectorization(\n",
    "    max_tokens=max_features,\n",
    "    output_mode='int',\n",
    "    output_sequence_length=sequence_length)"
   ]
  },
  {
   "cell_type": "code",
   "execution_count": 8,
   "id": "9a71d307-a488-4ee8-bf12-eec36f70d367",
   "metadata": {},
   "outputs": [],
   "source": [
    "train_text = ds_raw.map(lambda x, y: x)\n",
    "vectorize_layer.adapt(train_text)"
   ]
  },
  {
   "cell_type": "code",
   "execution_count": 67,
   "id": "eb7316f6-d3ec-4b87-a081-08a986546a63",
   "metadata": {},
   "outputs": [
    {
     "data": {
      "text/plain": [
       "<BatchDataset shapes: ((None,), (None,)), types: (tf.string, tf.float64)>"
      ]
     },
     "execution_count": 67,
     "metadata": {},
     "output_type": "execute_result"
    }
   ],
   "source": [
    "# ds_raw\n",
    "# ds_raw_batch\n",
    "\n",
    "# before anything can fit to it, first "
   ]
  },
  {
   "cell_type": "code",
   "execution_count": 9,
   "id": "915e76b1-4375-4ccf-bca4-fd2c2552012a",
   "metadata": {},
   "outputs": [],
   "source": [
    "# vectorize text is a layer, it wants the data to be in batch\n",
    "\n",
    "def vectorize_text(text, label):\n",
    "#     text = tf.expand_dims(text, -1)\n",
    "#     label = tf.expand_dims(label, -1)\n",
    "#     return text, label\n",
    "    return vectorize_layer(text), label"
   ]
  },
  {
   "cell_type": "code",
   "execution_count": 10,
   "id": "0d73b24e-e6a4-44d2-86d9-0b4b1e808801",
   "metadata": {},
   "outputs": [],
   "source": [
    "ds = ds_raw_batch.map(vectorize_text)\n",
    "# ds = ds_raw.map(vectorize_text)\n",
    "# val_ds = raw_val_ds.map(vectorize_text)\n",
    "# test_ds = raw_test_ds.map(vectorize_text)"
   ]
  },
  {
   "cell_type": "code",
   "execution_count": 11,
   "id": "6dd7f4ce-f34c-4713-915b-48287a98831d",
   "metadata": {},
   "outputs": [
    {
     "data": {
      "text/plain": [
       "(TensorSpec(shape=(None, 100), dtype=tf.int64, name=None),\n",
       " TensorSpec(shape=(None,), dtype=tf.float64, name=None))"
      ]
     },
     "execution_count": 11,
     "metadata": {},
     "output_type": "execute_result"
    }
   ],
   "source": [
    "ds.element_spec"
   ]
  },
  {
   "cell_type": "code",
   "execution_count": 40,
   "id": "579be0dd-e234-4e2e-8c38-43c70d87f392",
   "metadata": {},
   "outputs": [],
   "source": [
    "# for ele in ds.take(1):\n",
    "#     print(ele)    "
   ]
  },
  {
   "cell_type": "code",
   "execution_count": 12,
   "id": "3ecec11b-0eb9-490c-85a4-5d1a03f75921",
   "metadata": {},
   "outputs": [
    {
     "data": {
      "text/plain": [
       "'deeds'"
      ]
     },
     "execution_count": 12,
     "metadata": {},
     "output_type": "execute_result"
    }
   ],
   "source": [
    "# text, label = next(iter(ds_raw))\n",
    "# text\n",
    "# text1 = tf.expand_dims(text, -1)\n",
    "# vectorize_layer(['Our deeds', \n",
    "#                  'are the'])\n",
    "# vectorize_layer.get_vocabulary()[6241]\n",
    "# c\n",
    "# first_review, first_label = text_batch[0], label_batch[0]\n",
    "# print(\"Review\", first_review)\n",
    "# print(\"Label\", raw_train_ds.class_names[first_label])\n",
    "# print(\"Vectorized review\", vectorize_text(first_review, first_label))"
   ]
  },
  {
   "cell_type": "code",
   "execution_count": 12,
   "id": "0b9ca7a8-4a0f-42c5-a3e8-33c7df983255",
   "metadata": {},
   "outputs": [],
   "source": [
    "embedding_dim = 16 \n",
    "max_features = 10000"
   ]
  },
  {
   "cell_type": "code",
   "execution_count": 337,
   "id": "23b6d031-c001-4d9d-8648-0feaa83509d7",
   "metadata": {},
   "outputs": [
    {
     "data": {
      "text/plain": [
       "7613"
      ]
     },
     "execution_count": 337,
     "metadata": {},
     "output_type": "execute_result"
    }
   ],
   "source": [
    "len(ds)\n",
    "# ds.shape\n",
    "# tf.shape(ds)"
   ]
  },
  {
   "cell_type": "code",
   "execution_count": 13,
   "id": "46808933-8b8f-42cf-9610-99dc6f9221b2",
   "metadata": {},
   "outputs": [],
   "source": [
    "# ds.astfds.as_numpy_numpy()\n",
    "pct = 0.2\n",
    "ds.shuffle(buffer_size=7613)\n",
    "train_ds = ds.take(int(7614 * (1-pct)))\n",
    "test_ds = ds.skip(int(7614 * (1-pct)))\n",
    "# tfds.as_numpy(ds)"
   ]
  },
  {
   "cell_type": "code",
   "execution_count": 35,
   "id": "d5f357f2-8982-4077-b81e-a421c68edf38",
   "metadata": {},
   "outputs": [],
   "source": [
    "pct = 0.2\n",
    "ds_raw_batch.shuffle(buffer_size=7613)\n",
    "ds_train_raw = ds_raw_batch.take(int(7614 * (1-pct)))\n",
    "ds_test_raw = ds_raw_batch.skip(int(7614 * (1-pct)))"
   ]
  },
  {
   "cell_type": "code",
   "execution_count": 36,
   "id": "99b041da-6bbf-4228-b626-397d0eee0bcf",
   "metadata": {},
   "outputs": [
    {
     "data": {
      "text/plain": [
       "<TakeDataset shapes: ((None,), (None,)), types: (tf.string, tf.float64)>"
      ]
     },
     "execution_count": 36,
     "metadata": {},
     "output_type": "execute_result"
    }
   ],
   "source": [
    "ds_train_raw"
   ]
  },
  {
   "cell_type": "code",
   "execution_count": 14,
   "id": "6238c8dc-c79a-45f1-8079-34bbe39e3446",
   "metadata": {},
   "outputs": [],
   "source": [
    "len(train_ds)\n",
    "len(test_ds)\n",
    "embedding_dim = 16"
   ]
  },
  {
   "cell_type": "code",
   "execution_count": 15,
   "id": "68b8de0f-6764-4ff7-bcf8-982ab5a41bd8",
   "metadata": {},
   "outputs": [
    {
     "name": "stdout",
     "output_type": "stream",
     "text": [
      "Model: \"sequential\"\n",
      "_________________________________________________________________\n",
      "Layer (type)                 Output Shape              Param #   \n",
      "=================================================================\n",
      "embedding (Embedding)        (None, None, 16)          160016    \n",
      "_________________________________________________________________\n",
      "dropout (Dropout)            (None, None, 16)          0         \n",
      "_________________________________________________________________\n",
      "global_average_pooling1d (Gl (None, 16)                0         \n",
      "_________________________________________________________________\n",
      "dropout_1 (Dropout)          (None, 16)                0         \n",
      "_________________________________________________________________\n",
      "dense (Dense)                (None, 1)                 17        \n",
      "=================================================================\n",
      "Total params: 160,033\n",
      "Trainable params: 160,033\n",
      "Non-trainable params: 0\n",
      "_________________________________________________________________\n"
     ]
    }
   ],
   "source": [
    "model = tf.keras.Sequential([\n",
    "  layers.Embedding(max_features + 1, embedding_dim),\n",
    "  layers.Dropout(0.2),\n",
    "  layers.GlobalAveragePooling1D(),\n",
    "  layers.Dropout(0.2),\n",
    "  layers.Dense(1)])\n",
    "model.summary()"
   ]
  },
  {
   "cell_type": "code",
   "execution_count": 17,
   "id": "34d907fb-5db8-4971-8cf0-8d724835734c",
   "metadata": {},
   "outputs": [
    {
     "data": {
      "text/plain": [
       "10000"
      ]
     },
     "execution_count": 17,
     "metadata": {},
     "output_type": "execute_result"
    }
   ],
   "source": [
    "max_features"
   ]
  },
  {
   "cell_type": "code",
   "execution_count": 16,
   "id": "a8d548ca-2bbd-4eaf-8add-99a64c0189fa",
   "metadata": {},
   "outputs": [
    {
     "name": "stdout",
     "output_type": "stream",
     "text": [
      "Epoch 1/10\n",
      "6091/6091 [==============================] - 7s 1ms/step - loss: 0.6607 - binary_accuracy: 0.5936 - val_loss: 0.6684 - val_binary_accuracy: 0.5342\n",
      "Epoch 2/10\n",
      "6091/6091 [==============================] - 6s 999us/step - loss: 0.6064 - binary_accuracy: 0.6765 - val_loss: 0.5890 - val_binary_accuracy: 0.7470\n",
      "Epoch 3/10\n",
      "6091/6091 [==============================] - 6s 967us/step - loss: 0.5135 - binary_accuracy: 0.7754 - val_loss: 0.5347 - val_binary_accuracy: 0.7654\n",
      "Epoch 4/10\n",
      "6091/6091 [==============================] - 6s 975us/step - loss: 0.4498 - binary_accuracy: 0.8052 - val_loss: 0.5033 - val_binary_accuracy: 0.7766\n",
      "Epoch 5/10\n",
      "6091/6091 [==============================] - 6s 975us/step - loss: 0.4063 - binary_accuracy: 0.8288 - val_loss: 0.4836 - val_binary_accuracy: 0.7812\n",
      "Epoch 6/10\n",
      "6091/6091 [==============================] - 6s 1ms/step - loss: 0.3732 - binary_accuracy: 0.8448 - val_loss: 0.4687 - val_binary_accuracy: 0.7911\n",
      "Epoch 7/10\n",
      "6091/6091 [==============================] - 6s 989us/step - loss: 0.3463 - binary_accuracy: 0.8573 - val_loss: 0.4576 - val_binary_accuracy: 0.7989\n",
      "Epoch 8/10\n",
      "6091/6091 [==============================] - 6s 970us/step - loss: 0.3241 - binary_accuracy: 0.8715 - val_loss: 0.4581 - val_binary_accuracy: 0.7950\n",
      "Epoch 9/10\n",
      "6091/6091 [==============================] - 6s 969us/step - loss: 0.3024 - binary_accuracy: 0.8736 - val_loss: 0.4543 - val_binary_accuracy: 0.7957\n",
      "Epoch 10/10\n",
      "6091/6091 [==============================] - 6s 990us/step - loss: 0.2850 - binary_accuracy: 0.8838 - val_loss: 0.4567 - val_binary_accuracy: 0.7930\n"
     ]
    }
   ],
   "source": [
    "model.compile(loss=losses.BinaryCrossentropy(from_logits=True),\n",
    "              optimizer='adam',\n",
    "              metrics=tf.metrics.BinaryAccuracy(threshold=0.0))\n",
    "epochs = 10\n",
    "history = model.fit(\n",
    "    train_ds,\n",
    "    validation_data=test_ds,\n",
    "    epochs=epochs)"
   ]
  },
  {
   "cell_type": "code",
   "execution_count": 18,
   "id": "52b2a177-c050-43bf-9555-3ccfb8b78811",
   "metadata": {},
   "outputs": [
    {
     "name": "stdout",
     "output_type": "stream",
     "text": [
      "1522/1522 [==============================] - 1s 359us/step - loss: 0.4567 - binary_accuracy: 0.7930\n",
      "Loss:  0.45666685700416565\n",
      "Accuracy:  0.7930355072021484\n"
     ]
    }
   ],
   "source": [
    "loss, accuracy = model.evaluate(test_ds)\n",
    "\n",
    "print(\"Loss: \", loss)\n",
    "print(\"Accuracy: \", accuracy)"
   ]
  },
  {
   "cell_type": "code",
   "execution_count": 19,
   "id": "1f203add-7b6d-40ff-80f7-2a4aa95e3e1f",
   "metadata": {},
   "outputs": [
    {
     "data": {
      "text/plain": [
       "dict_keys(['loss', 'binary_accuracy', 'val_loss', 'val_binary_accuracy'])"
      ]
     },
     "execution_count": 19,
     "metadata": {},
     "output_type": "execute_result"
    }
   ],
   "source": [
    "history_dict = history.history\n",
    "history_dict.keys()"
   ]
  },
  {
   "cell_type": "code",
   "execution_count": 21,
   "id": "5b0c289b-bebc-4622-9a8b-a86434464421",
   "metadata": {},
   "outputs": [
    {
     "data": {
      "image/png": "[encoded data removed]",
      "text/plain": [
       "<Figure size 432x288 with 1 Axes>"
      ]
     },
     "metadata": {
      "needs_background": "light"
     },
     "output_type": "display_data"
    }
   ],
   "source": [
    "import matplotlib.pyplot as plt\n",
    "acc = history_dict['binary_accuracy']\n",
    "val_acc = history_dict['val_binary_accuracy']\n",
    "loss = history_dict['loss']\n",
    "val_loss = history_dict['val_loss']\n",
    "\n",
    "epochs = range(1, len(acc) + 1)\n",
    "\n",
    "# \"bo\" is for \"blue dot\"\n",
    "plt.plot(epochs, loss, 'bo', label='Training loss')\n",
    "# b is for \"solid blue line\"\n",
    "plt.plot(epochs, val_loss, 'b', label='Validation loss')\n",
    "plt.title('Training and validation loss')\n",
    "plt.xlabel('Epochs')\n",
    "plt.ylabel('Loss')\n",
    "plt.legend()\n",
    "\n",
    "plt.show()"
   ]
  },
  {
   "cell_type": "code",
   "execution_count": 22,
   "id": "0e2cd24b-68c7-466b-b9e8-4641cde23a81",
   "metadata": {},
   "outputs": [
    {
     "data": {
      "text/plain": [
       "<matplotlib.legend.Legend at 0x7ffddbdb22b0>"
      ]
     },
     "execution_count": 22,
     "metadata": {},
     "output_type": "execute_result"
    },
    {
     "data": {
      "image/png": "[encoded data removed]",
      "text/plain": [
       "<Figure size 432x288 with 1 Axes>"
      ]
     },
     "metadata": {
      "needs_background": "light"
     },
     "output_type": "display_data"
    }
   ],
   "source": [
    "plt.plot(epochs, acc, 'bo', label='Training acc')\n",
    "plt.plot(epochs, val_acc, 'b', label='Validation acc')\n",
    "plt.title('Training and validation accuracy')\n",
    "plt.xlabel('Epochs')\n",
    "plt.ylabel('Accuracy')\n",
    "plt.legend(loc='lower right')"
   ]
  },
  {
   "cell_type": "code",
   "execution_count": 37,
   "id": "fbde6fe0-58bd-4131-9d09-fa91dc2b2a3d",
   "metadata": {},
   "outputs": [
    {
     "name": "stdout",
     "output_type": "stream",
     "text": [
      "1522/1522 [==============================] - 1s 345us/step - loss: 0.4738 - accuracy: 0.7885\n",
      "0.7930355072021484\n"
     ]
    }
   ],
   "source": [
    "# combine the trained model with other layers\n",
    "export_model = tf.keras.Sequential([\n",
    "  vectorize_layer,\n",
    "  model,\n",
    "  layers.Activation('sigmoid')\n",
    "])\n",
    "\n",
    "export_model.compile(\n",
    "    loss=losses.BinaryCrossentropy(from_logits=False), optimizer=\"adam\", metrics=['accuracy']\n",
    ")\n",
    "\n",
    "# Test it with `raw_test_ds`, which yields raw strings\n",
    "loss, accuracy = export_model.evaluate(ds_test_raw)\n",
    "print(accuracy)"
   ]
  },
  {
   "cell_type": "code",
   "execution_count": 48,
   "id": "8f8756b6-c09b-420c-94cf-741772acd2bd",
   "metadata": {},
   "outputs": [
    {
     "data": {
      "text/plain": [
       "array([[0.6112107 ],\n",
       "       [0.40709385],\n",
       "       [0.4134224 ]], dtype=float32)"
      ]
     },
     "execution_count": 48,
     "metadata": {},
     "output_type": "execute_result"
    }
   ],
   "source": [
    "examples = [\n",
    "  \"an accident on 101\",\n",
    "  \"The movie was okay.\",\n",
    "  \"The movie was terrible...\"\n",
    "]\n",
    "\n",
    "export_model.predict(examples)"
   ]
  },
  {
   "cell_type": "code",
   "execution_count": 30,
   "id": "b1482634-5c20-43b7-a33a-569ae270d912",
   "metadata": {},
   "outputs": [
    {
     "data": {
      "text/plain": [
       "array([[-0.64754075],\n",
       "       [ 0.3400206 ],\n",
       "       [-2.8966432 ],\n",
       "       ...,\n",
       "       [ 0.7459343 ],\n",
       "       [ 4.7466764 ],\n",
       "       [ 9.163981  ]], dtype=float32)"
      ]
     },
     "execution_count": 30,
     "metadata": {},
     "output_type": "execute_result"
    }
   ],
   "source": [
    "model.predict(test_ds)"
   ]
  },
  {
   "cell_type": "code",
   "execution_count": 75,
   "id": "d3f3007d-32ff-425c-9560-746d6437d46d",
   "metadata": {},
   "outputs": [
    {
     "ename": "ValueError",
     "evalue": "too many values to unpack (expected 2)",
     "output_type": "error",
     "traceback": [
      "\u001b[0;31m---------------------------------------------------------------------------\u001b[0m",
      "\u001b[0;31mValueError\u001b[0m                                Traceback (most recent call last)",
      "\u001b[0;32m<ipython-input-75-25d3d2894de9>\u001b[0m in \u001b[0;36m<module>\u001b[0;34m\u001b[0m\n\u001b[0;32m----> 1\u001b[0;31m \u001b[0mds\u001b[0m\u001b[0;34m,\u001b[0m \u001b[0mdf\u001b[0m \u001b[0;34m=\u001b[0m \u001b[0mds_test_raw\u001b[0m\u001b[0;34m.\u001b[0m\u001b[0mtake\u001b[0m\u001b[0;34m(\u001b[0m\u001b[0;36m10\u001b[0m\u001b[0;34m)\u001b[0m\u001b[0;34m\u001b[0m\u001b[0;34m\u001b[0m\u001b[0m\n\u001b[0m",
      "\u001b[0;31mValueError\u001b[0m: too many values to unpack (expected 2)"
     ]
    }
   ],
   "source": [
    "ds, df = ds_test_raw.take(10)\n",
    "\n",
    "# work with numpy and pandas, it is hard to make the conversions back and for"
   ]
  },
  {
   "cell_type": "code",
   "execution_count": 74,
   "id": "7ad7b132-87e0-4ec4-9702-bbad7107dd3d",
   "metadata": {},
   "outputs": [],
   "source": [
    "# for ele, text in ds_test_raw.take(-1):\n",
    "#     print(ele)\n",
    "\n",
    "# t = ds_test_raw.map(lambda x, y: x.numpy())"
   ]
  },
  {
   "cell_type": "code",
   "execution_count": null,
   "id": "64176c5a-75f6-49f4-91dd-0ddf4d2fc13f",
   "metadata": {},
   "outputs": [],
   "source": []
  },
  {
   "cell_type": "markdown",
   "id": "bb0def3f-df73-464b-82ba-440d48922fc1",
   "metadata": {},
   "source": [
    "# how does tensorflow's shape work"
   ]
  },
  {
   "cell_type": "code",
   "execution_count": 71,
   "id": "61007eac-e9ff-4a42-b36c-a300c3081dd2",
   "metadata": {},
   "outputs": [],
   "source": [
    "tensor1 = tf.constant([[2,3,4]])\n",
    "\n",
    "# tensor1 = tf.constant([2,3,4])\n",
    "\n",
    "# tensor1 = tf.constant([[2],[5],[8],[11]])"
   ]
  },
  {
   "cell_type": "code",
   "execution_count": 72,
   "id": "46010efc-88a6-4188-b583-f401de5b4b91",
   "metadata": {},
   "outputs": [
    {
     "data": {
      "text/plain": [
       "array([[2, 3, 4]], dtype=int32)"
      ]
     },
     "execution_count": 72,
     "metadata": {},
     "output_type": "execute_result"
    }
   ],
   "source": [
    "tensor1.numpy()"
   ]
  },
  {
   "cell_type": "code",
   "execution_count": 164,
   "id": "1cf350ee-7f5a-49a6-9ce1-0cf2d09d36d2",
   "metadata": {},
   "outputs": [
    {
     "data": {
      "text/plain": [
       "TensorShape([4, 1])"
      ]
     },
     "execution_count": 164,
     "metadata": {},
     "output_type": "execute_result"
    }
   ],
   "source": [
    "# tensor1.shape"
   ]
  },
  {
   "cell_type": "code",
   "execution_count": 76,
   "id": "8ca22102-c8f4-4353-afd6-f953c7db628d",
   "metadata": {},
   "outputs": [],
   "source": [
    "tensor1 = tf.constant([[2, 3],\n",
    "                       [4, 5], \n",
    "                       [6, 7], \n",
    "                       [8, 9]])\n",
    "\n",
    "# tensor1_a = tf.expand_dims(tensor1, 0)\n",
    "\n",
    "# tensor1_a = tf.expand_dims(tensor1, -1)\n",
    "tensor1_a = tensor1\n",
    "\n",
    "\n",
    "# tensor1 = tf.constant([[2.0], [3.0], [4.0]])"
   ]
  },
  {
   "cell_type": "code",
   "execution_count": 77,
   "id": "2aaa8048-1dea-4e92-8526-7405f4df168f",
   "metadata": {},
   "outputs": [
    {
     "name": "stdout",
     "output_type": "stream",
     "text": [
      "(4, 2)\n",
      "(4, 2)\n"
     ]
    }
   ],
   "source": [
    "print(tensor1.shape)\n",
    "print(tensor1_a.shape)"
   ]
  },
  {
   "cell_type": "code",
   "execution_count": 73,
   "id": "0167a59c-a314-42d1-bc90-2a404e548e96",
   "metadata": {},
   "outputs": [],
   "source": [
    "# This one works\n",
    "# tensor2 = tf.constant([7, 13, 19, 25])\n",
    "# this one also works\n",
    "tensor2 = tf.constant([[7], [13], [19], [25]])\n",
    "\n",
    "# tensor2_a = tf.expand_dims(tensor2, 1)\n",
    "# tensor2_a = tf.expand_dims(tensor2, -1)\n",
    "tensor2_a = tensor2"
   ]
  },
  {
   "cell_type": "code",
   "execution_count": 74,
   "id": "de34a0dc-968b-45ec-a8fb-07cb8ce7ddb0",
   "metadata": {},
   "outputs": [
    {
     "name": "stdout",
     "output_type": "stream",
     "text": [
      "(4, 1)\n",
      "(4, 1)\n"
     ]
    }
   ],
   "source": [
    "print(tensor2.shape)\n",
    "\n",
    "print(tensor2_a.shape)"
   ]
  },
  {
   "cell_type": "code",
   "execution_count": 78,
   "id": "97a21cc1-d8a5-4926-a370-62c7e7e357e8",
   "metadata": {},
   "outputs": [],
   "source": [
    "ds = tf.data.Dataset.from_tensor_slices((tensor1_a, tensor2_a))"
   ]
  },
  {
   "cell_type": "code",
   "execution_count": 79,
   "id": "b0bf8ba1-b46d-4742-afc2-5ed58d425020",
   "metadata": {},
   "outputs": [
    {
     "data": {
      "text/plain": [
       "(TensorSpec(shape=(2,), dtype=tf.int32, name=None),\n",
       " TensorSpec(shape=(1,), dtype=tf.int32, name=None))"
      ]
     },
     "execution_count": 79,
     "metadata": {},
     "output_type": "execute_result"
    }
   ],
   "source": [
    "ds.element_spec\n",
    "\n",
    "# this represents the dimmension of the each training element; \n",
    "# training: is a vector of lenth 2 \n",
    "# target: is a scaler, (or a vector of lenth 1, same result)\n",
    "# (2,) a vector of two value"
   ]
  },
  {
   "cell_type": "code",
   "execution_count": 80,
   "id": "5ed54c6b-deb6-4415-9226-bd1ae69ebd17",
   "metadata": {},
   "outputs": [],
   "source": [
    "train_ds = ds.batch(1)"
   ]
  },
  {
   "cell_type": "code",
   "execution_count": 60,
   "id": "fbc7dba9-5583-46bf-8683-868f2a1f7fed",
   "metadata": {},
   "outputs": [
    {
     "data": {
      "text/plain": [
       "<TakeDataset shapes: ((None, 100), (None,)), types: (tf.int64, tf.float64)>"
      ]
     },
     "execution_count": 60,
     "metadata": {},
     "output_type": "execute_result"
    }
   ],
   "source": [
    "train_ds"
   ]
  },
  {
   "cell_type": "code",
   "execution_count": 61,
   "id": "8b157afa-286c-472a-b2a6-af6c3602bf57",
   "metadata": {},
   "outputs": [],
   "source": [
    "value, label = next(iter(ds))"
   ]
  },
  {
   "cell_type": "code",
   "execution_count": 177,
   "id": "27420253-5efc-4f78-a7da-e8e20fda88f5",
   "metadata": {},
   "outputs": [
    {
     "name": "stdout",
     "output_type": "stream",
     "text": [
      "tf.Tensor([2. 3. 4.], shape=(3,), dtype=float32)\n",
      "tf.Tensor([4], shape=(1,), dtype=int32)\n"
     ]
    }
   ],
   "source": [
    "print(value)\n",
    "print(label)"
   ]
  },
  {
   "cell_type": "code",
   "execution_count": 82,
   "id": "0e2ddbc3-f627-4c90-9c20-80bd417468a5",
   "metadata": {},
   "outputs": [
    {
     "name": "stdout",
     "output_type": "stream",
     "text": [
      "<tf.Variable 'dense_3/kernel:0' shape=(2, 1) dtype=float32, numpy=\n",
      "array([[1.9262124 ],\n",
      "       [0.83424425]], dtype=float32)>\n"
     ]
    },
    {
     "data": {
      "text/plain": [
       "array([[ 7.870488],\n",
       "       [13.391401],\n",
       "       [18.912315],\n",
       "       [24.43323 ]], dtype=float32)"
      ]
     },
     "execution_count": 82,
     "metadata": {},
     "output_type": "execute_result"
    }
   ],
   "source": [
    "linear_model = tf.keras.Sequential([\n",
    "    layers.Dense(units=1)\n",
    "])\n",
    "\n",
    "linear_model.compile(\n",
    "    optimizer=tf.optimizers.Adam(learning_rate=0.1),\n",
    "    loss='mean_squared_error')\n",
    "\n",
    "history = linear_model.fit(\n",
    "    tensor1, tensor2, \n",
    "    epochs=100,\n",
    "    verbose=0)\n",
    "\n",
    "print(linear_model.layers[0].kernel)\n",
    "\n",
    "linear_model.predict(tensor1)"
   ]
  },
  {
   "cell_type": "code",
   "execution_count": 300,
   "id": "893a4def-03d1-47d7-92de-cced456e394b",
   "metadata": {},
   "outputs": [
    {
     "name": "stdout",
     "output_type": "stream",
     "text": [
      "<tf.Variable 'dense_52/kernel:0' shape=(2, 1) dtype=float32, numpy=\n",
      "array([[2.145731],\n",
      "       [0.833519]], dtype=float32)>\n"
     ]
    }
   ],
   "source": [
    "linear_model = tf.keras.Sequential([\n",
    "    layers.Dense(units=1)\n",
    "])\n",
    "\n",
    "linear_model.compile(\n",
    "    optimizer=tf.optimizers.Adam(learning_rate=0.1),\n",
    "    loss='mean_squared_error')\n",
    "\n",
    "history = linear_model.fit(\n",
    "    train_ds, \n",
    "    epochs=100,\n",
    "    # suppress logging\n",
    "    verbose=0)\n",
    "\n",
    "print(linear_model.layers[0].kernel)\n",
    "\n",
    "# linear_model.predict(tensor1)"
   ]
  },
  {
   "cell_type": "code",
   "execution_count": 266,
   "id": "c13aa150-4ca1-458c-8ae6-9118b98ca62d",
   "metadata": {},
   "outputs": [
    {
     "name": "stdout",
     "output_type": "stream",
     "text": [
      "Model: \"sequential_50\"\n",
      "_________________________________________________________________\n",
      "Layer (type)                 Output Shape              Param #   \n",
      "=================================================================\n",
      "dense_50 (Dense)             (2, 1)                    2         \n",
      "=================================================================\n",
      "Total params: 2\n",
      "Trainable params: 2\n",
      "Non-trainable params: 0\n",
      "_________________________________________________________________\n"
     ]
    }
   ],
   "source": [
    "linear_model.summary()"
   ]
  },
  {
   "cell_type": "code",
   "execution_count": null,
   "id": "ad38cdbb-38c6-4128-8382-eab6dc37c915",
   "metadata": {},
   "outputs": [],
   "source": []
  }
 ],
 "metadata": {
  "kernelspec": {
   "display_name": "Python 3",
   "language": "python",
   "name": "python3"
  },
  "language_info": {
   "codemirror_mode": {
    "name": "ipython",
    "version": 3
   },
   "file_extension": ".py",
   "mimetype": "text/x-python",
   "name": "python",
   "nbconvert_exporter": "python",
   "pygments_lexer": "ipython3",
   "version": "3.8.10"
  }
 },
 "nbformat": 4,
 "nbformat_minor": 5
}
