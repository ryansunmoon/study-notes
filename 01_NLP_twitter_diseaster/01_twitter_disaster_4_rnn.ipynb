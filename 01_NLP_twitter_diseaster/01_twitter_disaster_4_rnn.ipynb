{
 "cells": [
  {
   "cell_type": "code",
   "execution_count": 1,
   "id": "fceff85a-1d72-43aa-a358-92dd39b13747",
   "metadata": {},
   "outputs": [],
   "source": [
    "import pandas as pd\n",
    "import tensorflow as tf\n",
    "\n",
    "from tensorflow.keras import layers\n",
    "from tensorflow.keras import losses\n",
    "from tensorflow.keras import preprocessing\n",
    "from tensorflow.keras.layers.experimental.preprocessing import TextVectorization\n",
    "from sklearn.model_selection import train_test_split"
   ]
  },
  {
   "cell_type": "code",
   "execution_count": 1,
   "id": "fbe7dc4f-e02d-49ad-867a-7be441294d2f",
   "metadata": {},
   "outputs": [],
   "source": [
    "# import tensorflow.compat.v2 as tf\n",
    "# import tensorflow_datasets as tfds\n",
    "\n",
    "# tf.enable_v2_behavior()\n",
    "\n",
    "# from tensorflow.python.framework.ops import disable_eager_execution\n",
    "# disable_eager_execution()\n",
    "\n",
    "# from tensorflow.python.compiler.mlcompute import mlcompute\n",
    "# mlcompute.set_mlc_device(device_name='any')"
   ]
  },
  {
   "cell_type": "code",
   "execution_count": 2,
   "id": "2b5b846c-441d-4cc9-8ae8-c397da10720c",
   "metadata": {},
   "outputs": [],
   "source": [
    "# from tensorflow.compat.v2.keras import layers\n",
    "# from tensorflow.compat.v2.keras import losses\n",
    "# from tensorflow.compat.v2.keras import preprocessing\n",
    "# from tensorflow.compat.v2.keras.layers.experimental.preprocessing import TextVectorization\n",
    "# import pandas as pd\n",
    "# from sklearn.model_selection import train_test_split"
   ]
  },
  {
   "cell_type": "code",
   "execution_count": 2,
   "id": "c14cc420-a68d-47f3-93b1-20b0a25f386e",
   "metadata": {},
   "outputs": [
    {
     "data": {
      "text/plain": [
       "'1.19.5'"
      ]
     },
     "execution_count": 2,
     "metadata": {},
     "output_type": "execute_result"
    }
   ],
   "source": [
    "import numpy as np\n",
    "np.version.version"
   ]
  },
  {
   "cell_type": "code",
   "execution_count": 5,
   "id": "e5d82251-a598-4780-bc4e-3193f581f5f7",
   "metadata": {},
   "outputs": [],
   "source": [
    "# !python - version"
   ]
  },
  {
   "cell_type": "markdown",
   "id": "075f4147-da3e-4055-bd5b-08719d6e3fff",
   "metadata": {},
   "source": [
    "# try RNN"
   ]
  },
  {
   "cell_type": "code",
   "execution_count": 3,
   "id": "8c1dba85-4fba-4e3c-8205-d0d920007c70",
   "metadata": {},
   "outputs": [],
   "source": [
    "df = pd.read_csv('train.csv', dtype =object,  usecols= ['id', 'text', 'target'])\n",
    "df['target'] = df['target'].astype(float)\n",
    "df_train, df_test = train_test_split(df, test_size=0.2, random_state=10)\n",
    "# target = df.pop('target')"
   ]
  },
  {
   "cell_type": "code",
   "execution_count": 4,
   "id": "5addff72-98fc-4dd8-9fe8-5de0bb3f8351",
   "metadata": {},
   "outputs": [],
   "source": [
    "vocab_size = 10000\n",
    "embedding_dim = 16\n",
    "\n",
    "max_length = 120\n",
    "trunc_type='post'\n",
    "oov_tok = \"<OOV>\"\n",
    "\n",
    "from tensorflow.keras.preprocessing.text import Tokenizer\n",
    "from tensorflow.keras.preprocessing.sequence import pad_sequences\n",
    "\n",
    "tokenizer = Tokenizer(num_words = vocab_size, oov_token=oov_tok)\n",
    "tokenizer.fit_on_texts(df_train['text'])\n",
    "word_index = tokenizer.word_index\n",
    "\n",
    "# use index method \n",
    "\n",
    "# they are two methods here: use text to sequences, then use embedding layer to create the word embedding; \n",
    "# or directly convert each document to a vector\n",
    "training_sequences = tokenizer.texts_to_sequences(df_train['text'])\n",
    "training_padded = pad_sequences(training_sequences, maxlen=max_length, truncating=trunc_type)\n",
    "testing_sequences = tokenizer.texts_to_sequences(df_test['text'])\n",
    "testing_padded = pad_sequences(testing_sequences,maxlen=max_length)\n",
    "\n",
    "# training_vectors = tokenizer.texts_to_matrix(df_train['text'], mode='binary')\n",
    "# # training_padded = pad_sequences(training_sequences, maxlen=max_length, truncating=trunc_type)\n",
    "# testing_vectors = tokenizer.texts_to_sequences(df_test['text'], mode = 'binary')\n",
    "# # testing_padded = pad_sequences(testing_sequences,maxlen=max_length)\n",
    "\n",
    "\n",
    "# this still may be converted to a vectorization layer"
   ]
  },
  {
   "cell_type": "code",
   "execution_count": 5,
   "id": "44a1d30d-a4e4-409b-9e61-39d0a38c0017",
   "metadata": {},
   "outputs": [
    {
     "data": {
      "text/plain": [
       "array([[   0,    0,    0, ...,   21, 1169, 2065],\n",
       "       [   0,    0,    0, ...,    3, 6010, 6011],\n",
       "       [   0,    0,    0, ...,    2,    3, 6012],\n",
       "       ...,\n",
       "       [   0,    0,    0, ...,  987,  938, 1049],\n",
       "       [   0,    0,    0, ...,    2,    3,    1],\n",
       "       [   0,    0,    0, ...,    2,    3,    1]], dtype=int32)"
      ]
     },
     "execution_count": 5,
     "metadata": {},
     "output_type": "execute_result"
    }
   ],
   "source": [
    "training_padded"
   ]
  },
  {
   "cell_type": "code",
   "execution_count": 6,
   "id": "e577e476-6567-4516-831f-7c17c053c980",
   "metadata": {},
   "outputs": [
    {
     "name": "stdout",
     "output_type": "stream",
     "text": [
      "embedding_dim:16\n",
      "embedding_dim:120\n"
     ]
    }
   ],
   "source": [
    "print('embedding_dim:' +  str(embedding_dim))\n",
    "print('embedding_dim:' +  str(max_length))"
   ]
  },
  {
   "cell_type": "code",
   "execution_count": 10,
   "id": "92e054e1-adc7-4cdd-8a10-fd1dadd50988",
   "metadata": {},
   "outputs": [],
   "source": [
    "# model=tf.keras.Sequential([\n",
    "#     tf.keras.layers.Embedding(vocab_size, embedding_dim),\n",
    "#     tf.keras.layers.LSTM(embedding_dim),\n",
    "# #     tf.keras.layers.Bidirectional(tf.keras.layers.LSTM(embedding_dim)),\n",
    "    \n",
    "#     tf.keras.layers.Dense(24, activation ='relu'),\n",
    "#     tf.keras.layers.Dense(1, activation='sigmoid')\n",
    "# ])\n"
   ]
  },
  {
   "cell_type": "code",
   "execution_count": 31,
   "id": "a120315c-81e6-4ba1-b0f2-eeac6c2c2441",
   "metadata": {},
   "outputs": [
    {
     "name": "stdout",
     "output_type": "stream",
     "text": [
      "Model: \"sequential_3\"\n",
      "_________________________________________________________________\n",
      "Layer (type)                 Output Shape              Param #   \n",
      "=================================================================\n",
      "embedding_3 (Embedding)      (None, 120, 16)           160000    \n",
      "_________________________________________________________________\n",
      "bidirectional_6 (Bidirection (None, 120, 32)           4224      \n",
      "_________________________________________________________________\n",
      "bidirectional_7 (Bidirection (None, 32)                6272      \n",
      "_________________________________________________________________\n",
      "dense_6 (Dense)              (None, 6)                 198       \n",
      "_________________________________________________________________\n",
      "dense_7 (Dense)              (None, 1)                 7         \n",
      "=================================================================\n",
      "Total params: 170,701\n",
      "Trainable params: 170,701\n",
      "Non-trainable params: 0\n",
      "_________________________________________________________________\n"
     ]
    }
   ],
   "source": [
    "callback = tf.keras.callbacks.EarlyStopping(monitor='val_loss', patience=10)\n",
    "\n",
    "model = tf.keras.Sequential([\n",
    "    tf.keras.layers.Embedding(vocab_size, embedding_dim, input_length=max_length),\n",
    "#     tf.keras.layers.GlobalAveragePooling1D(),\n",
    "    tf.keras.layers.Bidirectional(tf.keras.layers.LSTM(embedding_dim, return_sequences=True, dropout=0.4)),\n",
    "    tf.keras.layers.Bidirectional(tf.keras.layers.LSTM(embedding_dim, dropout=0.4)),\n",
    "#     tf.keras.layers.Bidirectional(tf.keras.layers.LSTM(embedding_dim)),\n",
    "    tf.keras.layers.Dense(6, activation='relu'),\n",
    "    tf.keras.layers.Dense(1, activation='sigmoid')\n",
    "])\n",
    "\n",
    "# optimizer = tf.keras.optimizers.Adam(lr=0.0001)\n",
    "optimizer = tf.keras.optimizers.Adam(lr=0.000008, beta_1=0.9, beta_2=0.999, amsgrad=False)\n",
    "# what is the beta_1 and beta_2? \n",
    "\n",
    "# optimizer = tf.keras.optimizers.Adam(lr=0.00001)\n",
    "model.compile(loss='binary_crossentropy',optimizer=optimizer, metrics=['accuracy', tf.keras.metrics.Precision(), \n",
    "                                                                   tf.keras.metrics.Recall()])\n",
    "model.summary()\n",
    "\n",
    "# how to add in precision and recall? \n"
   ]
  },
  {
   "cell_type": "code",
   "execution_count": 20,
   "id": "0be32d42-7f32-45d3-a5ef-130498411d5f",
   "metadata": {},
   "outputs": [
    {
     "data": {
      "text/plain": [
       "'1.19.5'"
      ]
     },
     "execution_count": 20,
     "metadata": {},
     "output_type": "execute_result"
    }
   ],
   "source": [
    "import numpy\n",
    "numpy.version.version"
   ]
  },
  {
   "cell_type": "code",
   "execution_count": 21,
   "id": "ce39a531-6f67-4541-a6a1-c3851d2938c6",
   "metadata": {},
   "outputs": [],
   "source": [
    "# callback = tf.keras.callbacks.EarlyStopping(monitor='val_loss', patience=3)\n",
    "\n",
    "# model = tf.keras.Sequential([tf.keras.layers.Input(10000,),\n",
    "# #     tf.keras.layers.Dense(6, activation='relu'),\n",
    "#     tf.keras.layers.Dense(1, activation='sigmoid')\n",
    "# ])\n",
    "\n",
    "# # optimizer = tf.keras.optimizers.Adam(lr=0.001)\n",
    "# optimizer = tf.keras.optimizers.Adam()\n",
    "# model.compile(loss='binary_crossentropy',optimizer=optimizer, metrics=['accuracy', tf.keras.metrics.Precision(), \n",
    "#                                                                    tf.keras.metrics.Recall()])\n",
    "# model.summary()"
   ]
  },
  {
   "cell_type": "code",
   "execution_count": 32,
   "id": "e360512d-546a-4dea-bcd9-a4a054e7635b",
   "metadata": {
    "tags": []
   },
   "outputs": [
    {
     "name": "stdout",
     "output_type": "stream",
     "text": [
      "Epoch 1/50\n",
      "191/191 [==============================] - 39s 190ms/step - loss: 0.6928 - accuracy: 0.5480 - precision_3: 0.4484 - recall_3: 0.2067 - val_loss: 0.6922 - val_accuracy: 0.5653 - val_precision_3: 0.0000e+00 - val_recall_3: 0.0000e+00\n",
      "Epoch 2/50\n",
      "191/191 [==============================] - 35s 185ms/step - loss: 0.6920 - accuracy: 0.5694 - precision_3: 0.3474 - recall_3: 0.0018 - val_loss: 0.6916 - val_accuracy: 0.5653 - val_precision_3: 0.0000e+00 - val_recall_3: 0.0000e+00\n",
      "Epoch 3/50\n",
      "191/191 [==============================] - 36s 187ms/step - loss: 0.6914 - accuracy: 0.5693 - precision_3: 0.0000e+00 - recall_3: 0.0000e+00 - val_loss: 0.6909 - val_accuracy: 0.5653 - val_precision_3: 0.0000e+00 - val_recall_3: 0.0000e+00\n",
      "Epoch 4/50\n",
      "191/191 [==============================] - 36s 186ms/step - loss: 0.6904 - accuracy: 0.5769 - precision_3: 0.0000e+00 - recall_3: 0.0000e+00 - val_loss: 0.6902 - val_accuracy: 0.5653 - val_precision_3: 0.0000e+00 - val_recall_3: 0.0000e+00\n",
      "Epoch 5/50\n",
      "191/191 [==============================] - 36s 190ms/step - loss: 0.6901 - accuracy: 0.5668 - precision_3: 0.0000e+00 - recall_3: 0.0000e+00 - val_loss: 0.6895 - val_accuracy: 0.5653 - val_precision_3: 0.0000e+00 - val_recall_3: 0.0000e+00\n",
      "Epoch 6/50\n",
      "191/191 [==============================] - 36s 187ms/step - loss: 0.6889 - accuracy: 0.5752 - precision_3: 0.0000e+00 - recall_3: 0.0000e+00 - val_loss: 0.6887 - val_accuracy: 0.5653 - val_precision_3: 0.0000e+00 - val_recall_3: 0.0000e+00\n",
      "Epoch 7/50\n",
      "191/191 [==============================] - 36s 187ms/step - loss: 0.6879 - accuracy: 0.5745 - precision_3: 0.0000e+00 - recall_3: 0.0000e+00 - val_loss: 0.6878 - val_accuracy: 0.5653 - val_precision_3: 0.0000e+00 - val_recall_3: 0.0000e+00\n",
      "Epoch 8/50\n",
      "191/191 [==============================] - 36s 187ms/step - loss: 0.6876 - accuracy: 0.5657 - precision_3: 0.0000e+00 - recall_3: 0.0000e+00 - val_loss: 0.6869 - val_accuracy: 0.5653 - val_precision_3: 0.0000e+00 - val_recall_3: 0.0000e+00\n",
      "Epoch 9/50\n",
      "191/191 [==============================] - 36s 187ms/step - loss: 0.6847 - accuracy: 0.5848 - precision_3: 0.0000e+00 - recall_3: 0.0000e+00 - val_loss: 0.6859 - val_accuracy: 0.5653 - val_precision_3: 0.0000e+00 - val_recall_3: 0.0000e+00\n",
      "Epoch 10/50\n",
      "191/191 [==============================] - 36s 187ms/step - loss: 0.6852 - accuracy: 0.5696 - precision_3: 0.0000e+00 - recall_3: 0.0000e+00 - val_loss: 0.6847 - val_accuracy: 0.5653 - val_precision_3: 0.0000e+00 - val_recall_3: 0.0000e+00\n",
      "Epoch 11/50\n",
      "191/191 [==============================] - 36s 188ms/step - loss: 0.6846 - accuracy: 0.5652 - precision_3: 0.0000e+00 - recall_3: 0.0000e+00 - val_loss: 0.6837 - val_accuracy: 0.5653 - val_precision_3: 0.0000e+00 - val_recall_3: 0.0000e+00\n",
      "Epoch 12/50\n",
      "191/191 [==============================] - 36s 188ms/step - loss: 0.6836 - accuracy: 0.5656 - precision_3: 0.0000e+00 - recall_3: 0.0000e+00 - val_loss: 0.6828 - val_accuracy: 0.5653 - val_precision_3: 0.0000e+00 - val_recall_3: 0.0000e+00\n",
      "Epoch 13/50\n",
      "191/191 [==============================] - 36s 188ms/step - loss: 0.6796 - accuracy: 0.5819 - precision_3: 0.0000e+00 - recall_3: 0.0000e+00 - val_loss: 0.6820 - val_accuracy: 0.5653 - val_precision_3: 0.0000e+00 - val_recall_3: 0.0000e+00\n",
      "Epoch 14/50\n",
      "191/191 [==============================] - 36s 188ms/step - loss: 0.6805 - accuracy: 0.5717 - precision_3: 0.0000e+00 - recall_3: 0.0000e+00 - val_loss: 0.6813 - val_accuracy: 0.5653 - val_precision_3: 0.0000e+00 - val_recall_3: 0.0000e+00\n",
      "Epoch 15/50\n",
      "191/191 [==============================] - 36s 189ms/step - loss: 0.6804 - accuracy: 0.5687 - precision_3: 0.0000e+00 - recall_3: 0.0000e+00 - val_loss: 0.6808 - val_accuracy: 0.5653 - val_precision_3: 0.0000e+00 - val_recall_3: 0.0000e+00\n",
      "Epoch 16/50\n",
      "191/191 [==============================] - 36s 189ms/step - loss: 0.6805 - accuracy: 0.5651 - precision_3: 0.0000e+00 - recall_3: 0.0000e+00 - val_loss: 0.6803 - val_accuracy: 0.5653 - val_precision_3: 0.0000e+00 - val_recall_3: 0.0000e+00\n",
      "Epoch 17/50\n",
      "191/191 [==============================] - 36s 189ms/step - loss: 0.6799 - accuracy: 0.5656 - precision_3: 0.0000e+00 - recall_3: 0.0000e+00 - val_loss: 0.6798 - val_accuracy: 0.5653 - val_precision_3: 0.0000e+00 - val_recall_3: 0.0000e+00\n",
      "Epoch 18/50\n",
      "191/191 [==============================] - 36s 189ms/step - loss: 0.6763 - accuracy: 0.5779 - precision_3: 0.0000e+00 - recall_3: 0.0000e+00 - val_loss: 0.6793 - val_accuracy: 0.5653 - val_precision_3: 0.0000e+00 - val_recall_3: 0.0000e+00\n",
      "Epoch 19/50\n",
      "191/191 [==============================] - 36s 189ms/step - loss: 0.6769 - accuracy: 0.5734 - precision_3: 0.0000e+00 - recall_3: 0.0000e+00 - val_loss: 0.6788 - val_accuracy: 0.5653 - val_precision_3: 0.0000e+00 - val_recall_3: 0.0000e+00\n",
      "Epoch 20/50\n",
      "191/191 [==============================] - 36s 189ms/step - loss: 0.6759 - accuracy: 0.5735 - precision_3: 0.0000e+00 - recall_3: 0.0000e+00 - val_loss: 0.6782 - val_accuracy: 0.5653 - val_precision_3: 0.0000e+00 - val_recall_3: 0.0000e+00\n",
      "Epoch 21/50\n",
      "191/191 [==============================] - 951s 5s/step - loss: 0.6752 - accuracy: 0.5733 - precision_3: 0.0000e+00 - recall_3: 0.0000e+00 - val_loss: 0.6776 - val_accuracy: 0.5653 - val_precision_3: 0.0000e+00 - val_recall_3: 0.0000e+00\n",
      "Epoch 22/50\n",
      "191/191 [==============================] - 1901s 10s/step - loss: 0.6759 - accuracy: 0.5684 - precision_3: 0.0000e+00 - recall_3: 0.0000e+00 - val_loss: 0.6769 - val_accuracy: 0.5653 - val_precision_3: 0.0000e+00 - val_recall_3: 0.0000e+00\n",
      "Epoch 23/50\n",
      "191/191 [==============================] - 36s 188ms/step - loss: 0.6715 - accuracy: 0.5832 - precision_3: 0.0000e+00 - recall_3: 0.0000e+00 - val_loss: 0.6761 - val_accuracy: 0.5653 - val_precision_3: 0.0000e+00 - val_recall_3: 0.0000e+00\n",
      "Epoch 24/50\n",
      "191/191 [==============================] - 36s 189ms/step - loss: 0.6757 - accuracy: 0.5632 - precision_3: 0.0000e+00 - recall_3: 0.0000e+00 - val_loss: 0.6753 - val_accuracy: 0.5653 - val_precision_3: 0.0000e+00 - val_recall_3: 0.0000e+00\n",
      "Epoch 25/50\n",
      "191/191 [==============================] - 36s 190ms/step - loss: 0.6738 - accuracy: 0.5673 - precision_3: 0.0000e+00 - recall_3: 0.0000e+00 - val_loss: 0.6745 - val_accuracy: 0.5653 - val_precision_3: 0.0000e+00 - val_recall_3: 0.0000e+00\n",
      "Epoch 26/50\n",
      "191/191 [==============================] - 36s 190ms/step - loss: 0.6723 - accuracy: 0.5676 - precision_3: 0.0000e+00 - recall_3: 0.0000e+00 - val_loss: 0.6735 - val_accuracy: 0.5653 - val_precision_3: 0.0000e+00 - val_recall_3: 0.0000e+00\n",
      "Epoch 27/50\n",
      "191/191 [==============================] - 36s 189ms/step - loss: 0.6720 - accuracy: 0.5674 - precision_3: 0.0000e+00 - recall_3: 0.0000e+00 - val_loss: 0.6724 - val_accuracy: 0.5653 - val_precision_3: 0.0000e+00 - val_recall_3: 0.0000e+00\n",
      "Epoch 28/50\n",
      "191/191 [==============================] - 707s 4s/step - loss: 0.6695 - accuracy: 0.5697 - precision_3: 0.0000e+00 - recall_3: 0.0000e+00 - val_loss: 0.6711 - val_accuracy: 0.5653 - val_precision_3: 0.0000e+00 - val_recall_3: 0.0000e+00\n",
      "Epoch 29/50\n",
      "191/191 [==============================] - 214s 1s/step - loss: 0.6679 - accuracy: 0.5713 - precision_3: 0.0000e+00 - recall_3: 0.0000e+00 - val_loss: 0.6698 - val_accuracy: 0.5653 - val_precision_3: 0.0000e+00 - val_recall_3: 0.0000e+00\n",
      "Epoch 30/50\n",
      "191/191 [==============================] - 398s 2s/step - loss: 0.6677 - accuracy: 0.5655 - precision_3: 0.0000e+00 - recall_3: 0.0000e+00 - val_loss: 0.6683 - val_accuracy: 0.5653 - val_precision_3: 0.0000e+00 - val_recall_3: 0.0000e+00\n",
      "Epoch 31/50\n",
      "191/191 [==============================] - 36s 189ms/step - loss: 0.6655 - accuracy: 0.5665 - precision_3: 0.0000e+00 - recall_3: 0.0000e+00 - val_loss: 0.6667 - val_accuracy: 0.5653 - val_precision_3: 0.0000e+00 - val_recall_3: 0.0000e+00\n",
      "Epoch 32/50\n",
      "191/191 [==============================] - 36s 189ms/step - loss: 0.6599 - accuracy: 0.5807 - precision_3: 0.0000e+00 - recall_3: 0.0000e+00 - val_loss: 0.6649 - val_accuracy: 0.5653 - val_precision_3: 0.0000e+00 - val_recall_3: 0.0000e+00\n",
      "Epoch 33/50\n",
      "191/191 [==============================] - 36s 189ms/step - loss: 0.6619 - accuracy: 0.5683 - precision_3: 0.0000e+00 - recall_3: 0.0000e+00 - val_loss: 0.6629 - val_accuracy: 0.5653 - val_precision_3: 0.0000e+00 - val_recall_3: 0.0000e+00\n",
      "Epoch 34/50\n",
      "191/191 [==============================] - 36s 189ms/step - loss: 0.6601 - accuracy: 0.5669 - precision_3: 0.8646 - recall_3: 0.0015 - val_loss: 0.6607 - val_accuracy: 0.5653 - val_precision_3: 0.0000e+00 - val_recall_3: 0.0000e+00\n",
      "Epoch 35/50\n",
      "191/191 [==============================] - 42s 219ms/step - loss: 0.6561 - accuracy: 0.5716 - precision_3: 0.9531 - recall_3: 0.0048 - val_loss: 0.6584 - val_accuracy: 0.5666 - val_precision_3: 1.0000 - val_recall_3: 0.0030\n",
      "Epoch 36/50\n",
      "191/191 [==============================] - 1053s 6s/step - loss: 0.6549 - accuracy: 0.5704 - precision_3: 0.9740 - recall_3: 0.0093 - val_loss: 0.6558 - val_accuracy: 0.5660 - val_precision_3: 0.6667 - val_recall_3: 0.0030\n",
      "Epoch 37/50\n",
      "191/191 [==============================] - 1903s 10s/step - loss: 0.6552 - accuracy: 0.5674 - precision_3: 0.9845 - recall_3: 0.0316 - val_loss: 0.6530 - val_accuracy: 0.5726 - val_precision_3: 0.9231 - val_recall_3: 0.0181\n",
      "Epoch 38/50\n",
      "191/191 [==============================] - 36s 190ms/step - loss: 0.6485 - accuracy: 0.5894 - precision_3: 0.9686 - recall_3: 0.0651 - val_loss: 0.6500 - val_accuracy: 0.5857 - val_precision_3: 0.8974 - val_recall_3: 0.0529\n",
      "Epoch 39/50\n",
      "191/191 [==============================] - 1914s 10s/step - loss: 0.6440 - accuracy: 0.6063 - precision_3: 0.9547 - recall_3: 0.0952 - val_loss: 0.6465 - val_accuracy: 0.6021 - val_precision_3: 0.9118 - val_recall_3: 0.0937\n",
      "Epoch 40/50\n",
      "191/191 [==============================] - 1163s 6s/step - loss: 0.6386 - accuracy: 0.6289 - precision_3: 0.9448 - recall_3: 0.1392 - val_loss: 0.6430 - val_accuracy: 0.6139 - val_precision_3: 0.9111 - val_recall_3: 0.1239\n",
      "Epoch 41/50\n",
      "191/191 [==============================] - 1036s 5s/step - loss: 0.6345 - accuracy: 0.6438 - precision_3: 0.9074 - recall_3: 0.1867 - val_loss: 0.6392 - val_accuracy: 0.6271 - val_precision_3: 0.9196 - val_recall_3: 0.1556\n",
      "Epoch 42/50\n",
      "191/191 [==============================] - 36s 188ms/step - loss: 0.6294 - accuracy: 0.6585 - precision_3: 0.8998 - recall_3: 0.2353 - val_loss: 0.6351 - val_accuracy: 0.6461 - val_precision_3: 0.9020 - val_recall_3: 0.2085\n",
      "Epoch 43/50\n",
      "191/191 [==============================] - 36s 190ms/step - loss: 0.6281 - accuracy: 0.6729 - precision_3: 0.8655 - recall_3: 0.2905 - val_loss: 0.6307 - val_accuracy: 0.6566 - val_precision_3: 0.8757 - val_recall_3: 0.2447\n",
      "Epoch 44/50\n",
      "191/191 [==============================] - 36s 190ms/step - loss: 0.6244 - accuracy: 0.6803 - precision_3: 0.8458 - recall_3: 0.3257 - val_loss: 0.6257 - val_accuracy: 0.6743 - val_precision_3: 0.8673 - val_recall_3: 0.2961\n",
      "Epoch 45/50\n",
      "191/191 [==============================] - 36s 190ms/step - loss: 0.6150 - accuracy: 0.7072 - precision_3: 0.8416 - recall_3: 0.3872 - val_loss: 0.6206 - val_accuracy: 0.6907 - val_precision_3: 0.8524 - val_recall_3: 0.3489\n",
      "Epoch 46/50\n",
      "191/191 [==============================] - 916s 5s/step - loss: 0.6056 - accuracy: 0.7173 - precision_3: 0.8295 - recall_3: 0.4170 - val_loss: 0.6155 - val_accuracy: 0.6921 - val_precision_3: 0.8271 - val_recall_3: 0.3686\n",
      "Epoch 47/50\n",
      "191/191 [==============================] - 1048s 6s/step - loss: 0.6066 - accuracy: 0.7074 - precision_3: 0.7901 - recall_3: 0.4317 - val_loss: 0.6106 - val_accuracy: 0.7045 - val_precision_3: 0.8313 - val_recall_3: 0.4018\n",
      "Epoch 48/50\n",
      "191/191 [==============================] - 36s 190ms/step - loss: 0.5974 - accuracy: 0.7233 - precision_3: 0.7866 - recall_3: 0.4740 - val_loss: 0.6053 - val_accuracy: 0.7131 - val_precision_3: 0.8187 - val_recall_3: 0.4366\n",
      "Epoch 49/50\n",
      "191/191 [==============================] - 969s 5s/step - loss: 0.5859 - accuracy: 0.7393 - precision_3: 0.7865 - recall_3: 0.5133 - val_loss: 0.6000 - val_accuracy: 0.7170 - val_precision_3: 0.8064 - val_recall_3: 0.4592\n",
      "Epoch 50/50\n",
      "191/191 [==============================] - 948s 5s/step - loss: 0.5844 - accuracy: 0.7399 - precision_3: 0.7870 - recall_3: 0.5297 - val_loss: 0.5952 - val_accuracy: 0.7203 - val_precision_3: 0.8089 - val_recall_3: 0.4668\n"
     ]
    }
   ],
   "source": [
    "num_epochs = 50\n",
    "history = model.fit(training_padded, df_train['target'], epochs=num_epochs, validation_data=(testing_padded, df_test['target']),\n",
    "                   callbacks=[callback])"
   ]
  },
  {
   "cell_type": "code",
   "execution_count": 23,
   "id": "911ede11-4751-4a2b-aa4f-f2295248af95",
   "metadata": {},
   "outputs": [],
   "source": [
    "# continue from here "
   ]
  },
  {
   "cell_type": "code",
   "execution_count": 24,
   "id": "423b4e78-060b-49e6-b89e-d3ccfdedc6ac",
   "metadata": {},
   "outputs": [],
   "source": [
    "test_target_pred = (model.predict(testing_padded) > 0.5).astype(int)\n",
    "# test_target_pred_class = model.predict_classes(testing_padded)"
   ]
  },
  {
   "cell_type": "code",
   "execution_count": 25,
   "id": "5eaf3b45-0364-4d17-845d-e9a2ca375dc7",
   "metadata": {},
   "outputs": [
    {
     "name": "stdout",
     "output_type": "stream",
     "text": [
      "accuracy: 0.7793827971109653\n",
      "precision: 0.784965034965035\n",
      "recall: 0.6782477341389728\n",
      "f1: 0.7277147487844408\n",
      "auc: 0.767695295640915\n"
     ]
    }
   ],
   "source": [
    "from sklearn.metrics import precision_score\n",
    "from sklearn.metrics import recall_score\n",
    "from sklearn.metrics import accuracy_score\n",
    "from sklearn.metrics import roc_auc_score\n",
    "from sklearn.metrics import f1_score\n",
    "\n",
    "print('accuracy: ' + str(accuracy_score(y_pred=test_target_pred, y_true=df_test['target'])))\n",
    "print('precision: ' +  str(precision_score(y_pred=test_target_pred, y_true=df_test['target'])))\n",
    "print('recall: ' + str(recall_score(y_pred=test_target_pred, y_true=df_test['target'])))\n",
    "print('f1: ' +  str(f1_score(y_pred=test_target_pred, y_true=df_test['target'])))\n",
    "print('auc: ' +  str(roc_auc_score(y_score=test_target_pred, y_true=df_test['target'])))\n"
   ]
  },
  {
   "cell_type": "code",
   "execution_count": 26,
   "id": "1f896ab6-ac2b-4c0e-902a-1ca747322d5d",
   "metadata": {},
   "outputs": [
    {
     "data": {
      "text/plain": [
       "['loss', 'accuracy', 'precision_2', 'recall_2']"
      ]
     },
     "execution_count": 26,
     "metadata": {},
     "output_type": "execute_result"
    }
   ],
   "source": [
    "model.metrics_names"
   ]
  },
  {
   "cell_type": "code",
   "execution_count": 27,
   "id": "86cb427f-70c7-47af-866c-1b115b4aeb9d",
   "metadata": {},
   "outputs": [
    {
     "name": "stdout",
     "output_type": "stream",
     "text": [
      "48/48 [==============================] - 1s 23ms/step - loss: 0.6789 - accuracy: 0.7794 - precision_2: 0.7850 - recall_2: 0.6782\n",
      "Loss:  0.6789055466651917\n",
      "Accuracy:  0.7793828248977661\n",
      "precision:  0.7849650382995605\n",
      "recall:  0.6782477498054504\n"
     ]
    }
   ],
   "source": [
    "loss, accuracy, precision, recall = model.evaluate(x=testing_padded, y = df_test['target'])\n",
    "\n",
    "print(\"Loss: \", loss)\n",
    "print(\"Accuracy: \", accuracy)\n",
    "print('precision: ', precision)\n",
    "print('recall: ', recall)\n"
   ]
  },
  {
   "cell_type": "code",
   "execution_count": 28,
   "id": "1f203add-7b6d-40ff-80f7-2a4aa95e3e1f",
   "metadata": {},
   "outputs": [
    {
     "data": {
      "text/plain": [
       "dict_keys(['loss', 'accuracy', 'precision_2', 'recall_2', 'val_loss', 'val_accuracy', 'val_precision_2', 'val_recall_2'])"
      ]
     },
     "execution_count": 28,
     "metadata": {},
     "output_type": "execute_result"
    }
   ],
   "source": [
    "history_dict = history.history\n",
    "history_dict.keys()"
   ]
  },
  {
   "cell_type": "code",
   "execution_count": 29,
   "id": "5b0c289b-bebc-4622-9a8b-a86434464421",
   "metadata": {},
   "outputs": [
    {
     "data": {
      "image/png": "[encoded data removed]",
      "text/plain": [
       "<Figure size 432x288 with 1 Axes>"
      ]
     },
     "metadata": {
      "needs_background": "light"
     },
     "output_type": "display_data"
    }
   ],
   "source": [
    "import matplotlib.pyplot as plt\n",
    "acc = history_dict['accuracy']\n",
    "val_acc = history_dict['val_accuracy']\n",
    "loss = history_dict['loss']\n",
    "val_loss = history_dict['val_loss']\n",
    "\n",
    "epochs = range(1, len(acc) + 1)\n",
    "\n",
    "# \"bo\" is for \"blue dot\"\n",
    "plt.plot(epochs, loss, 'b', label='Training loss')\n",
    "# b is for \"solid blue line\"\n",
    "plt.plot(epochs, val_loss, 'r', label='Validation loss')\n",
    "plt.title('Training and validation loss')\n",
    "plt.xlabel('Epochs')\n",
    "plt.ylabel('Loss')\n",
    "plt.legend()\n",
    "\n",
    "plt.show()"
   ]
  },
  {
   "cell_type": "code",
   "execution_count": 30,
   "id": "0e2cd24b-68c7-466b-b9e8-4641cde23a81",
   "metadata": {},
   "outputs": [
    {
     "data": {
      "text/plain": [
       "<matplotlib.legend.Legend at 0x2bbc13e50>"
      ]
     },
     "execution_count": 30,
     "metadata": {},
     "output_type": "execute_result"
    },
    {
     "data": {
      "image/png": "[encoded data removed]",
      "text/plain": [
       "<Figure size 432x288 with 1 Axes>"
      ]
     },
     "metadata": {
      "needs_background": "light"
     },
     "output_type": "display_data"
    }
   ],
   "source": [
    "plt.plot(epochs, acc, 'b', label='Training acc')\n",
    "plt.plot(epochs, val_acc, 'r', label='Validation acc')\n",
    "plt.title('Training and validation accuracy')\n",
    "plt.xlabel('Epochs')\n",
    "plt.ylabel('Accuracy')\n",
    "plt.legend(loc='lower right')"
   ]
  },
  {
   "cell_type": "code",
   "execution_count": null,
   "id": "7ad7b132-87e0-4ec4-9702-bbad7107dd3d",
   "metadata": {},
   "outputs": [],
   "source": [
    "# for ele, text in ds_test_raw.take(-1):\n",
    "#     print(ele)\n",
    "\n",
    "# t = ds_test_raw.map(lambda x, y: x.numpy())"
   ]
  }
 ],
 "metadata": {
  "kernelspec": {
   "display_name": "Python 3",
   "language": "python",
   "name": "python3"
  },
  "language_info": {
   "codemirror_mode": {
    "name": "ipython",
    "version": 3
   },
   "file_extension": ".py",
   "mimetype": "text/x-python",
   "name": "python",
   "nbconvert_exporter": "python",
   "pygments_lexer": "ipython3",
   "version": "3.7.7"
  }
 },
 "nbformat": 4,
 "nbformat_minor": 5
}
