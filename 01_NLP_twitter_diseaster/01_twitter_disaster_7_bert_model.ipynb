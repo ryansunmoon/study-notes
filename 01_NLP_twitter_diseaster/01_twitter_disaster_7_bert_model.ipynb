{
 "cells": [
  {
   "cell_type": "code",
   "execution_count": 2,
   "id": "fceff85a-1d72-43aa-a358-92dd39b13747",
   "metadata": {},
   "outputs": [],
   "source": [
    "import pandas as pd\n",
    "import tensorflow as tf\n",
    "import numpy as np\n",
    "\n",
    "from tensorflow.keras import layers\n",
    "from tensorflow.keras import losses\n",
    "from tensorflow.keras import preprocessing\n",
    "from tensorflow.keras.layers.experimental.preprocessing import TextVectorization\n",
    "from sklearn.model_selection import train_test_split\n",
    "import unidecode"
   ]
  },
  {
   "cell_type": "code",
   "execution_count": 11,
   "id": "523a67f4-2d74-4ff3-b49d-60c62bd0dfee",
   "metadata": {},
   "outputs": [],
   "source": [
    "# glove_embeddings = dict()\n",
    "# f = open('glove/glove.twitter.27B.25d.txt')\n",
    "# for line in f:\n",
    "#     values = line.split()\n",
    "#     word = values[0]\n",
    "#     coefs = np.asarray(values[1:], dtype='float32')\n",
    "#     glove_embeddings[word] = coefs\n",
    "# f.close()"
   ]
  },
  {
   "cell_type": "code",
   "execution_count": 12,
   "id": "a94a8032-70c1-4343-a375-3a8919bf6a31",
   "metadata": {},
   "outputs": [
    {
     "data": {
      "text/plain": [
       "array([ 0.35377 ,  0.32604 , -0.22682 , -0.32412 , -0.18555 ,  0.1486  ,\n",
       "        1.3914  , -0.65154 , -0.38197 ,  0.17129 , -0.43405 ,  0.39154 ,\n",
       "       -5.7918  , -0.20201 , -0.23216 , -0.10638 ,  0.070835, -0.2146  ,\n",
       "       -0.094385, -1.0851  ,  0.61683 ,  0.82184 , -0.35102 ,  0.19177 ,\n",
       "       -0.43818 ], dtype=float32)"
      ]
     },
     "execution_count": 12,
     "metadata": {},
     "output_type": "execute_result"
    }
   ],
   "source": [
    "# glove_embeddings[\"not\"]"
   ]
  },
  {
   "cell_type": "code",
   "execution_count": 8,
   "id": "97009a4c-7fab-4434-a5c2-9c1ec52fe49a",
   "metadata": {},
   "outputs": [],
   "source": [
    "import spacy\n",
    "\n",
    "# run this in the terminal\n",
    "# \"python -m spacy download en_core_web_lg\"\n",
    "\n",
    "nlp = spacy.load(\"en_core_web_lg\")"
   ]
  },
  {
   "cell_type": "code",
   "execution_count": 9,
   "id": "9789eb45-2078-49f1-a43b-3d9fd136274c",
   "metadata": {},
   "outputs": [],
   "source": [
    "\n",
    "# code examples:\n",
    "# also contain contractions\n",
    "# https://gist.github.com/jiahao87/d57a2535c2ed7315390920ea9296d79f#file-text_preprocessing-py-L22\n",
    "def lower_case(text):\n",
    "    return text.lower()\n",
    "\n",
    "def remove_whitespace(text):\n",
    "    \"\"\"remove extra whitespaces from text\"\"\"\n",
    "    text = text.strip()\n",
    "    return \" \".join(text.split())\n",
    "\n",
    "def remove_accented_chars(text):\n",
    "    \"\"\"remove accented characters from text, e.g. café\"\"\"\n",
    "    text = unidecode.unidecode(text)\n",
    "    return text"
   ]
  },
  {
   "cell_type": "code",
   "execution_count": 10,
   "id": "660428a5-92e9-4bee-ba11-825806c535eb",
   "metadata": {},
   "outputs": [],
   "source": [
    "def clean_text(text):\n",
    "    clean_text = ''\n",
    "    doc = nlp(text)\n",
    "    for token in doc:\n",
    "        include_flag = True                   \n",
    "        if token.is_stop == True:\n",
    "            include_flag = False\n",
    "        if (token.pos_ =='PUNCT') | (token.is_punct):\n",
    "            include_flag = False\n",
    "        if token.pos_ =='SYM':\n",
    "            include_flag = False\n",
    "        if token.like_url:\n",
    "            include_flag = False\n",
    "        if token.like_email:\n",
    "            include_flag = False            \n",
    "        if include_flag:\n",
    "            clean_text = clean_text + token.lemma_ + \" \"\n",
    "    return clean_text.strip()"
   ]
  },
  {
   "cell_type": "code",
   "execution_count": 11,
   "id": "4f12d386-0e27-4668-a5d4-f8ab964af272",
   "metadata": {},
   "outputs": [
    {
     "data": {
      "text/plain": [
       "'way eat shit'"
      ]
     },
     "execution_count": 11,
     "metadata": {},
     "output_type": "execute_result"
    }
   ],
   "source": [
    "text = \"no way I ca n't eat that shit\"\n",
    "clean_text(text)"
   ]
  },
  {
   "cell_type": "markdown",
   "id": "4ccda534-1509-4f20-b32f-4e7537a4a39f",
   "metadata": {},
   "source": [
    "# read in data, and cleaning"
   ]
  },
  {
   "cell_type": "code",
   "execution_count": 13,
   "id": "aba33cee-d053-4afd-a30d-0f9a07c1b5c4",
   "metadata": {},
   "outputs": [],
   "source": [
    "df = pd.read_csv('train.csv', dtype =object,  usecols= ['id', 'text', 'target'])"
   ]
  },
  {
   "cell_type": "code",
   "execution_count": 14,
   "id": "7525e3f2-4be4-43e9-8491-7dee846e0a8b",
   "metadata": {},
   "outputs": [],
   "source": [
    "# note: even if we don't handel the http:xx content and the @xxx content, it will \n",
    "df['text_1'] = df['text'].map(lower_case)\n",
    "df['text_2'] = df['text_1'].map(remove_whitespace)\n",
    "df['text_3'] = df['text_2'].map(remove_accented_chars)\n",
    "df['text_4'] = df['text_3'].map(clean_text)"
   ]
  },
  {
   "cell_type": "code",
   "execution_count": 15,
   "id": "3e61cff9-454a-4888-9478-5cf346c87db2",
   "metadata": {},
   "outputs": [],
   "source": [
    "df['text_clean'] = df['text_4']"
   ]
  },
  {
   "cell_type": "code",
   "execution_count": 16,
   "id": "85a4853b-4f4f-460c-9bf6-059e4ab4c737",
   "metadata": {},
   "outputs": [],
   "source": [
    "df.to_csv('df_train_temp.csv', index=False)"
   ]
  },
  {
   "cell_type": "markdown",
   "id": "0cd392de",
   "metadata": {},
   "source": [
    "# Try bert model "
   ]
  },
  {
   "cell_type": "code",
   "execution_count": null,
   "id": "464c174c",
   "metadata": {},
   "outputs": [],
   "source": [
    "# use small bert \n",
    "# https://tfhub.dev/tensorflow/small_bert/bert_en_uncased_L-4_H-512_A-8/2"
   ]
  },
  {
   "cell_type": "code",
   "execution_count": null,
   "id": "a8f06c2d",
   "metadata": {},
   "outputs": [],
   "source": []
  },
  {
   "cell_type": "code",
   "execution_count": null,
   "id": "2afa1020",
   "metadata": {},
   "outputs": [],
   "source": []
  },
  {
   "cell_type": "markdown",
   "id": "075f4147-da3e-4055-bd5b-08719d6e3fff",
   "metadata": {},
   "source": [
    "# try RNN"
   ]
  },
  {
   "cell_type": "code",
   "execution_count": null,
   "id": "8c1dba85-4fba-4e3c-8205-d0d920007c70",
   "metadata": {},
   "outputs": [],
   "source": [
    "df['target'] = df['target'].astype(float)\n",
    "df_train, df_test = train_test_split(df, test_size=0.2, random_state=10)\n",
    "target = df.pop('target')"
   ]
  },
  {
   "cell_type": "code",
   "execution_count": null,
   "id": "5addff72-98fc-4dd8-9fe8-5de0bb3f8351",
   "metadata": {},
   "outputs": [],
   "source": [
    "vocab_size = 8000\n",
    "embedding_dim = 25\n",
    "\n",
    "max_length = 120\n",
    "trunc_type='post'\n",
    "oov_tok = \"<OOV>\"\n",
    "\n",
    "from tensorflow.keras.preprocessing.text import Tokenizer\n",
    "from tensorflow.keras.preprocessing.sequence import pad_sequences\n",
    "\n",
    "tokenizer = Tokenizer(num_words = vocab_size, oov_token=oov_tok)\n",
    "tokenizer.fit_on_texts(df_train['text_clean'])\n",
    "word_index = tokenizer.word_index\n",
    "\n",
    "# use index method \n",
    "\n",
    "training_sequences = tokenizer.texts_to_sequences(df_train['text_clean'])\n",
    "training_padded = pad_sequences(training_sequences, maxlen=max_length, truncating=trunc_type)\n",
    "testing_sequences = tokenizer.texts_to_sequences(df_test['text_clean'])\n",
    "testing_padded = pad_sequences(testing_sequences,maxlen=max_length)\n",
    "\n",
    "# this still may be converted to a vectorization layer"
   ]
  },
  {
   "cell_type": "code",
   "execution_count": null,
   "id": "2248891d-ce65-415c-9298-d9593c75c0c8",
   "metadata": {},
   "outputs": [],
   "source": [
    "# for word, index in tokenizer.word_index.items():\n",
    "#     if word != '<OOV>':\n",
    "#         print(word + ' ' + 'count: ' + str(tokenizer.word_counts[word]))\n",
    "# # len(tokenizer.word_index)\n",
    "# # # tokenizer.word_counts['t']\n",
    "\n",
    "# tokenizer.word_counts[\"http\"]"
   ]
  },
  {
   "cell_type": "code",
   "execution_count": null,
   "id": "3cffad5c-f653-4881-be46-84a6b2f9739c",
   "metadata": {},
   "outputs": [],
   "source": [
    "# embedding_matrix is a numpy array, where the row index represents the token index\n",
    "embedding_matrix = np.zeros((vocab_size, embedding_dim))\n",
    "for word, index in tokenizer.word_index.items():\n",
    "    if index > vocab_size - 1:\n",
    "        break\n",
    "    else:\n",
    "        embedding_vector = glove_embeddings.get(word)\n",
    "        if embedding_vector is not None:\n",
    "            embedding_matrix[index] = embedding_vector"
   ]
  },
  {
   "cell_type": "code",
   "execution_count": null,
   "id": "e6d46ae7-0f9e-4f9f-9122-7357f0aecb2c",
   "metadata": {},
   "outputs": [],
   "source": [
    "# look for the coverage\n",
    "xs=[]\n",
    "ys=[]\n",
    "cumulative_x=[]\n",
    "cumulative_y=[]\n",
    "total_y=0\n",
    "for word, index in tokenizer.word_index.items():\n",
    "  xs.append(index)\n",
    "  cumulative_x.append(index)\n",
    "  if glove_embeddings.get(word) is not None:\n",
    "    total_y = total_y + 1\n",
    "    ys.append(1)\n",
    "  else:\n",
    "    ys.append(0)\n",
    "  cumulative_y.append(total_y / index)"
   ]
  },
  {
   "cell_type": "code",
   "execution_count": 198,
   "id": "a76b9362-7931-4b23-bcb3-09179f6d114f",
   "metadata": {},
   "outputs": [
    {
     "data": {
      "text/plain": [
       "12902"
      ]
     },
     "execution_count": 198,
     "metadata": {},
     "output_type": "execute_result"
    }
   ],
   "source": [
    "len(cumulative_y)"
   ]
  },
  {
   "cell_type": "code",
   "execution_count": 199,
   "id": "d90871bf-9c1a-4b34-b503-774d4820c3ff",
   "metadata": {},
   "outputs": [
    {
     "data": {
      "text/plain": [
       "[<matplotlib.patches.Polygon at 0x2cab1b940>]"
      ]
     },
     "execution_count": 199,
     "metadata": {},
     "output_type": "execute_result"
    },
    {
     "data": {
      "image/png": "[encoded data removed]",
      "text/plain": [
       "<Figure size 864x144 with 1 Axes>"
      ]
     },
     "metadata": {
      "needs_background": "light"
     },
     "output_type": "display_data"
    }
   ],
   "source": [
    "import matplotlib.pyplot as plt\n",
    "fig, ax = plt.subplots(figsize=(12,2))\n",
    "ax.spines['top'].set_visible(False)\n",
    "\n",
    "plt.margins(x=0, y=None, tight=True)\n",
    "#plt.axis([13000, 14000, 0, 1])\n",
    "plt.fill(ys)"
   ]
  },
  {
   "cell_type": "code",
   "execution_count": 200,
   "id": "1320220e-760b-4b34-935f-9c1808528ebf",
   "metadata": {},
   "outputs": [
    {
     "name": "stdout",
     "output_type": "stream",
     "text": [
      "[0.7088823438226631]\n"
     ]
    },
    {
     "data": {
      "image/png": "[encoded data removed]",
      "text/plain": [
       "<Figure size 432x288 with 1 Axes>"
      ]
     },
     "metadata": {
      "needs_background": "light"
     },
     "output_type": "display_data"
    }
   ],
   "source": [
    "import matplotlib.pyplot as plt\n",
    "plt.plot(cumulative_x, cumulative_y)\n",
    "plt.axis([1, 12000 , 0.5, 1])\n",
    "print(cumulative_y[-1:])\n",
    "\n",
    "# for now, just use 6000"
   ]
  },
  {
   "cell_type": "code",
   "execution_count": 201,
   "id": "44a1d30d-a4e4-409b-9e61-39d0a38c0017",
   "metadata": {},
   "outputs": [
    {
     "data": {
      "text/plain": [
       "array([[   0,    0,    0, ...,   68,  312, 1711],\n",
       "       [   0,    0,    0, ..., 1355, 4843, 4844],\n",
       "       [   0,    0,    0, ...,  313,   46,  340],\n",
       "       ...,\n",
       "       [   0,    0,    0, ...,  797,  751,  635],\n",
       "       [   0,    0,    0, ..., 2329,    1,    1],\n",
       "       [   0,    0,    0, ...,    3, 3241,  362]], dtype=int32)"
      ]
     },
     "execution_count": 201,
     "metadata": {},
     "output_type": "execute_result"
    }
   ],
   "source": [
    "training_padded"
   ]
  },
  {
   "cell_type": "code",
   "execution_count": null,
   "id": "e577e476-6567-4516-831f-7c17c053c980",
   "metadata": {},
   "outputs": [],
   "source": [
    "print('embedding_dim:' +  str(embedding_dim))\n",
    "print('embedding_dim:' +  str(max_length))"
   ]
  },
  {
   "cell_type": "code",
   "execution_count": 203,
   "id": "92e054e1-adc7-4cdd-8a10-fd1dadd50988",
   "metadata": {},
   "outputs": [],
   "source": [
    "# model=tf.keras.Sequential([\n",
    "#     tf.keras.layers.Embedding(vocab_size, embedding_dim),\n",
    "#     tf.keras.layers.LSTM(embedding_dim),\n",
    "# #     tf.keras.layers.Bidirectional(tf.keras.layers.LSTM(embedding_dim)),\n",
    "    \n",
    "#     tf.keras.layers.Dense(24, activation ='relu'),\n",
    "#     tf.keras.layers.Dense(1, activation='sigmoid')\n",
    "# ])\n",
    "# import tensorflow_addons as tfa"
   ]
  },
  {
   "cell_type": "code",
   "execution_count": 204,
   "id": "a120315c-81e6-4ba1-b0f2-eeac6c2c2441",
   "metadata": {},
   "outputs": [
    {
     "name": "stdout",
     "output_type": "stream",
     "text": [
      "Model: \"sequential_9\"\n",
      "_________________________________________________________________\n",
      "Layer (type)                 Output Shape              Param #   \n",
      "=================================================================\n",
      "embedding_9 (Embedding)      (None, None, 25)          200000    \n",
      "_________________________________________________________________\n",
      "bidirectional_18 (Bidirectio (None, None, 50)          10200     \n",
      "_________________________________________________________________\n",
      "bidirectional_19 (Bidirectio (None, 50)                15200     \n",
      "_________________________________________________________________\n",
      "dense_18 (Dense)             (None, 6)                 306       \n",
      "_________________________________________________________________\n",
      "dense_19 (Dense)             (None, 1)                 7         \n",
      "=================================================================\n",
      "Total params: 225,713\n",
      "Trainable params: 25,713\n",
      "Non-trainable params: 200,000\n",
      "_________________________________________________________________\n"
     ]
    }
   ],
   "source": [
    "callback = tf.keras.callbacks.EarlyStopping(monitor='val_loss', patience=10)\n",
    "\n",
    "model = tf.keras.Sequential([\n",
    "    tf.keras.layers.Embedding(vocab_size, embedding_dim, weights=[embedding_matrix], trainable=False),\n",
    "#     tf.keras.layers.GlobalAveragePooling1D(),\n",
    "    tf.keras.layers.Bidirectional(tf.keras.layers.LSTM(embedding_dim, return_sequences=True, dropout=0.4)),\n",
    "    tf.keras.layers.Bidirectional(tf.keras.layers.LSTM(embedding_dim, dropout=0.4)),\n",
    "#     tf.keras.layers.Bidirectional(tf.keras.layers.LSTM(embedding_dim)),\n",
    "    tf.keras.layers.Dense(6, activation='relu'),\n",
    "    tf.keras.layers.Dense(1, activation='sigmoid')\n",
    "])\n",
    "\n",
    "# optimizer = tf.keras.optimizers.Adam(lr=0.0007)\n",
    "optimizer = tf.keras.optimizers.Adam(lr=0.0005, beta_1=0.9, beta_2=0.999, amsgrad=False)\n",
    "# what is the beta_1 and beta_2? \n",
    "\n",
    "# optimizer = tf.keras.optimizers.Adam(lr=0.00001)\n",
    "model.compile(loss='binary_crossentropy',optimizer=optimizer, metrics=['accuracy', tf.keras.metrics.Precision(), \n",
    "                                                                   tf.keras.metrics.Recall(), tf.keras.metrics.AUC()])\n",
    "model.summary()\n",
    "\n",
    "# how to add in precision and recall? \n"
   ]
  },
  {
   "cell_type": "code",
   "execution_count": null,
   "id": "e360512d-546a-4dea-bcd9-a4a054e7635b",
   "metadata": {
    "tags": []
   },
   "outputs": [
    {
     "name": "stdout",
     "output_type": "stream",
     "text": [
      "Epoch 1/50\n",
      "191/191 [==============================] - 41s 201ms/step - loss: 0.6266 - accuracy: 0.6431 - precision_5: 0.6253 - recall_5: 0.3648 - auc_1: 0.6636 - val_loss: 0.4906 - val_accuracy: 0.7643 - val_precision_5: 0.8036 - val_recall_5: 0.6057 - val_auc_1: 0.8413\n",
      "Epoch 2/50\n",
      "191/191 [==============================] - 37s 193ms/step - loss: 0.5177 - accuracy: 0.7526 - precision_5: 0.7457 - recall_5: 0.6390 - auc_1: 0.8145 - val_loss: 0.4752 - val_accuracy: 0.7708 - val_precision_5: 0.7893 - val_recall_5: 0.6450 - val_auc_1: 0.8491\n",
      "Epoch 3/50\n",
      "127/191 [==================>...........] - ETA: 11s - loss: 0.4922 - accuracy: 0.7719 - precision_5: 0.7671 - recall_5: 0.6581 - auc_1: 0.8284"
     ]
    }
   ],
   "source": [
    "num_epochs = 50\n",
    "history = model.fit(training_padded, df_train['target'], epochs=num_epochs, validation_data=(testing_padded, df_test['target']),\n",
    "                   callbacks=[callback])"
   ]
  },
  {
   "cell_type": "code",
   "execution_count": null,
   "id": "911ede11-4751-4a2b-aa4f-f2295248af95",
   "metadata": {},
   "outputs": [],
   "source": [
    "# continue from here "
   ]
  },
  {
   "cell_type": "code",
   "execution_count": null,
   "id": "423b4e78-060b-49e6-b89e-d3ccfdedc6ac",
   "metadata": {},
   "outputs": [],
   "source": [
    "test_target_pred = (model.predict(testing_padded) > 0.5).astype(int)\n",
    "# test_target_pred_class = model.predict_classes(testing_padded)"
   ]
  },
  {
   "cell_type": "code",
   "execution_count": null,
   "id": "5eaf3b45-0364-4d17-845d-e9a2ca375dc7",
   "metadata": {},
   "outputs": [],
   "source": [
    "from sklearn.metrics import precision_score\n",
    "from sklearn.metrics import recall_score\n",
    "from sklearn.metrics import accuracy_score\n",
    "from sklearn.metrics import roc_auc_score\n",
    "from sklearn.metrics import f1_score\n",
    "\n",
    "print('accuracy: ' + str(accuracy_score(y_pred=test_target_pred, y_true=df_test['target'])))\n",
    "print('precision: ' +  str(precision_score(y_pred=test_target_pred, y_true=df_test['target'])))\n",
    "print('recall: ' + str(recall_score(y_pred=test_target_pred, y_true=df_test['target'])))\n",
    "print('f1: ' +  str(f1_score(y_pred=test_target_pred, y_true=df_test['target'])))\n",
    "print('auc: ' +  str(roc_auc_score(y_score=test_target_pred, y_true=df_test['target'])))\n"
   ]
  },
  {
   "cell_type": "code",
   "execution_count": null,
   "id": "1f896ab6-ac2b-4c0e-902a-1ca747322d5d",
   "metadata": {},
   "outputs": [],
   "source": [
    "model.metrics_names"
   ]
  },
  {
   "cell_type": "code",
   "execution_count": null,
   "id": "86cb427f-70c7-47af-866c-1b115b4aeb9d",
   "metadata": {},
   "outputs": [],
   "source": [
    "loss, accuracy, precision, recall = model.evaluate(x=testing_padded, y = df_test['target'])\n",
    "\n",
    "print(\"Loss: \", loss)\n",
    "print(\"Accuracy: \", accuracy)\n",
    "print('precision: ', precision)\n",
    "print('recall: ', recall)\n"
   ]
  },
  {
   "cell_type": "code",
   "execution_count": null,
   "id": "1f203add-7b6d-40ff-80f7-2a4aa95e3e1f",
   "metadata": {},
   "outputs": [],
   "source": [
    "history_dict = history.history\n",
    "history_dict.keys()"
   ]
  },
  {
   "cell_type": "code",
   "execution_count": null,
   "id": "5b0c289b-bebc-4622-9a8b-a86434464421",
   "metadata": {},
   "outputs": [],
   "source": [
    "import matplotlib.pyplot as plt\n",
    "acc = history_dict['accuracy']\n",
    "val_acc = history_dict['val_accuracy']\n",
    "loss = history_dict['loss']\n",
    "val_loss = history_dict['val_loss']\n",
    "\n",
    "epochs = range(1, len(acc) + 1)\n",
    "\n",
    "# \"bo\" is for \"blue dot\"\n",
    "plt.plot(epochs, loss, 'b', label='Training loss')\n",
    "# b is for \"solid blue line\"\n",
    "plt.plot(epochs, val_loss, 'r', label='Validation loss')\n",
    "plt.title('Training and validation loss')\n",
    "plt.xlabel('Epochs')\n",
    "plt.ylabel('Loss')\n",
    "plt.legend()\n",
    "\n",
    "plt.show()"
   ]
  },
  {
   "cell_type": "code",
   "execution_count": null,
   "id": "0e2cd24b-68c7-466b-b9e8-4641cde23a81",
   "metadata": {},
   "outputs": [],
   "source": [
    "plt.plot(epochs, acc, 'b', label='Training acc')\n",
    "plt.plot(epochs, val_acc, 'r', label='Validation acc')\n",
    "plt.title('Training and validation accuracy')\n",
    "plt.xlabel('Epochs')\n",
    "plt.ylabel('Accuracy')\n",
    "plt.legend(loc='lower right')"
   ]
  },
  {
   "cell_type": "code",
   "execution_count": null,
   "id": "7ad7b132-87e0-4ec4-9702-bbad7107dd3d",
   "metadata": {},
   "outputs": [],
   "source": [
    "# for ele, text in ds_test_raw.take(-1):\n",
    "#     print(ele)\n",
    "\n",
    "# t = ds_test_raw.map(lambda x, y: x.numpy())"
   ]
  }
 ],
 "metadata": {
  "kernelspec": {
   "display_name": "Python 3",
   "language": "python",
   "name": "python3"
  },
  "language_info": {
   "codemirror_mode": {
    "name": "ipython",
    "version": 3
   },
   "file_extension": ".py",
   "mimetype": "text/x-python",
   "name": "python",
   "nbconvert_exporter": "python",
   "pygments_lexer": "ipython3",
   "version": "3.8.10"
  }
 },
 "nbformat": 4,
 "nbformat_minor": 5
}
