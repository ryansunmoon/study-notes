{
 "cells": [
  {
   "cell_type": "code",
   "execution_count": 105,
   "id": "fceff85a-1d72-43aa-a358-92dd39b13747",
   "metadata": {},
   "outputs": [],
   "source": [
    "import pandas as pd\n",
    "import tensorflow as tf\n",
    "\n",
    "from tensorflow.keras import layers\n",
    "from tensorflow.keras import losses\n",
    "from tensorflow.keras import preprocessing\n",
    "from tensorflow.keras.layers.experimental.preprocessing import TextVectorization\n",
    "from sklearn.model_selection import train_test_split"
   ]
  },
  {
   "cell_type": "markdown",
   "id": "075f4147-da3e-4055-bd5b-08719d6e3fff",
   "metadata": {},
   "source": [
    "# Use this to test \n",
    "\n",
    "# This workbook minic the code from tensorflow specialization study\n",
    "# 1. use tokenizer\n",
    "# 2. use flatten layer\n",
    "# 3. use early stopping \n",
    "# 4. tested that sklearn and keras return same precision, recall, accuracy\n",
    "# 5. use model structure with dense(6) before dense(1) + faltten(), best model accuracy = 0.79; seems like the model is over trained\n",
    "# 6. use model structure with global1d + dense(1), best model accuracy = 0.80; it is just a slight improvement\n",
    "# 7. also tried using the flatten + dense(1), model is in 0.79 range"
   ]
  },
  {
   "cell_type": "code",
   "execution_count": 106,
   "id": "8c1dba85-4fba-4e3c-8205-d0d920007c70",
   "metadata": {},
   "outputs": [],
   "source": [
    "df = pd.read_csv('train.csv', dtype =object,  usecols= ['id', 'text', 'target'])\n",
    "df['target'] = df['target'].astype(float)\n",
    "df_train, df_test = train_test_split(df, test_size=0.2, random_state=10)\n",
    "# target = df.pop('target')"
   ]
  },
  {
   "cell_type": "code",
   "execution_count": 135,
   "id": "5addff72-98fc-4dd8-9fe8-5de0bb3f8351",
   "metadata": {},
   "outputs": [],
   "source": [
    "vocab_size = 10000\n",
    "embedding_dim = 16\n",
    "\n",
    "max_length = 120\n",
    "trunc_type='post'\n",
    "oov_tok = \"<OOV>\"\n",
    "\n",
    "from tensorflow.keras.preprocessing.text import Tokenizer\n",
    "from tensorflow.keras.preprocessing.sequence import pad_sequences\n",
    "\n",
    "tokenizer = Tokenizer(num_words = vocab_size, oov_token=oov_tok)\n",
    "tokenizer.fit_on_texts(df_train['text'])\n",
    "word_index = tokenizer.word_index\n",
    "\n",
    "# use index method \n",
    "\n",
    "# they are two methods here: use text to sequences, then use embedding layer to create the word embedding; \n",
    "# or directly convert each document to a vector\n",
    "training_sequences = tokenizer.texts_to_sequences(df_train['text'])\n",
    "training_padded = pad_sequences(training_sequences, maxlen=max_length, truncating=trunc_type)\n",
    "testing_sequences = tokenizer.texts_to_sequences(df_test['text'])\n",
    "testing_padded = pad_sequences(testing_sequences,maxlen=max_length)\n",
    "\n",
    "# training_vectors = tokenizer.texts_to_matrix(df_train['text'], mode='binary')\n",
    "# # training_padded = pad_sequences(training_sequences, maxlen=max_length, truncating=trunc_type)\n",
    "# testing_vectors = tokenizer.texts_to_sequences(df_test['text'], mode = 'binary')\n",
    "# # testing_padded = pad_sequences(testing_sequences,maxlen=max_length)\n",
    "\n",
    "\n",
    "# this still may be converted to a vectorization layer"
   ]
  },
  {
   "cell_type": "code",
   "execution_count": 137,
   "id": "44a1d30d-a4e4-409b-9e61-39d0a38c0017",
   "metadata": {},
   "outputs": [
    {
     "data": {
      "text/plain": [
       "(6090, 10000)"
      ]
     },
     "execution_count": 137,
     "metadata": {},
     "output_type": "execute_result"
    }
   ],
   "source": [
    "training_sequences.shape"
   ]
  },
  {
   "cell_type": "code",
   "execution_count": 108,
   "id": "e577e476-6567-4516-831f-7c17c053c980",
   "metadata": {},
   "outputs": [
    {
     "name": "stdout",
     "output_type": "stream",
     "text": [
      "embedding_dim:16\n",
      "embedding_dim:120\n"
     ]
    }
   ],
   "source": [
    "print('embedding_dim:' +  str(embedding_dim))\n",
    "print('embedding_dim:' +  str(max_length))"
   ]
  },
  {
   "cell_type": "code",
   "execution_count": 127,
   "id": "a120315c-81e6-4ba1-b0f2-eeac6c2c2441",
   "metadata": {},
   "outputs": [
    {
     "name": "stdout",
     "output_type": "stream",
     "text": [
      "Model: \"sequential_20\"\n",
      "_________________________________________________________________\n",
      "Layer (type)                 Output Shape              Param #   \n",
      "=================================================================\n",
      "embedding_20 (Embedding)     (None, 120, 16)           160000    \n",
      "_________________________________________________________________\n",
      "flatten_16 (Flatten)         (None, 1920)              0         \n",
      "_________________________________________________________________\n",
      "dense_37 (Dense)             (None, 1)                 1921      \n",
      "=================================================================\n",
      "Total params: 161,921\n",
      "Trainable params: 161,921\n",
      "Non-trainable params: 0\n",
      "_________________________________________________________________\n"
     ]
    }
   ],
   "source": [
    "callback = tf.keras.callbacks.EarlyStopping(monitor='val_loss', patience=3)\n",
    "\n",
    "model = tf.keras.Sequential([\n",
    "    tf.keras.layers.Embedding(vocab_size, embedding_dim, input_length=max_length),\n",
    "#     tf.keras.layers.GlobalAveragePooling1D(),\n",
    "    tf.keras.layers.Flatten(), # either this one, or use the global average pooling 1d\n",
    "#     tf.keras.layers.Dense(6, activation='relu'),\n",
    "    tf.keras.layers.Dense(1, activation='sigmoid')\n",
    "])\n",
    "\n",
    "# optimizer = tf.keras.optimizers.Adam(lr=0.001)\n",
    "optimizer = tf.keras.optimizers.Adam()\n",
    "model.compile(loss='binary_crossentropy',optimizer=optimizer, metrics=['accuracy', tf.keras.metrics.Precision(), \n",
    "                                                                   tf.keras.metrics.Recall()])\n",
    "model.summary()\n",
    "\n",
    "# how to add in precision and recall? \n"
   ]
  },
  {
   "cell_type": "code",
   "execution_count": 142,
   "id": "ce39a531-6f67-4541-a6a1-c3851d2938c6",
   "metadata": {},
   "outputs": [
    {
     "name": "stdout",
     "output_type": "stream",
     "text": [
      "Model: \"sequential_23\"\n",
      "_________________________________________________________________\n",
      "Layer (type)                 Output Shape              Param #   \n",
      "=================================================================\n",
      "dense_40 (Dense)             (None, 1)                 10001     \n",
      "=================================================================\n",
      "Total params: 10,001\n",
      "Trainable params: 10,001\n",
      "Non-trainable params: 0\n",
      "_________________________________________________________________\n"
     ]
    }
   ],
   "source": [
    "# callback = tf.keras.callbacks.EarlyStopping(monitor='val_loss', patience=3)\n",
    "\n",
    "# model = tf.keras.Sequential([tf.keras.layers.Input(10000,),\n",
    "# #     tf.keras.layers.Dense(6, activation='relu'),\n",
    "#     tf.keras.layers.Dense(1, activation='sigmoid')\n",
    "# ])\n",
    "\n",
    "# # optimizer = tf.keras.optimizers.Adam(lr=0.001)\n",
    "# optimizer = tf.keras.optimizers.Adam()\n",
    "# model.compile(loss='binary_crossentropy',optimizer=optimizer, metrics=['accuracy', tf.keras.metrics.Precision(), \n",
    "#                                                                    tf.keras.metrics.Recall()])\n",
    "# model.summary()"
   ]
  },
  {
   "cell_type": "code",
   "execution_count": 128,
   "id": "e360512d-546a-4dea-bcd9-a4a054e7635b",
   "metadata": {
    "tags": []
   },
   "outputs": [
    {
     "name": "stdout",
     "output_type": "stream",
     "text": [
      "Epoch 1/30\n",
      "191/191 [==============================] - 1s 2ms/step - loss: 0.6761 - accuracy: 0.5695 - precision_19: 0.5134 - recall_16: 0.2355 - val_loss: 0.6059 - val_accuracy: 0.6809 - val_precision_19: 0.6636 - val_recall_16: 0.5393\n",
      "Epoch 2/30\n",
      "191/191 [==============================] - 0s 1ms/step - loss: 0.5441 - accuracy: 0.7384 - precision_19: 0.7405 - recall_16: 0.5922 - val_loss: 0.4954 - val_accuracy: 0.7846 - val_precision_19: 0.8584 - val_recall_16: 0.6042\n",
      "Epoch 3/30\n",
      "191/191 [==============================] - 0s 1ms/step - loss: 0.3848 - accuracy: 0.8575 - precision_19: 0.9224 - recall_16: 0.7270 - val_loss: 0.4611 - val_accuracy: 0.7925 - val_precision_19: 0.8289 - val_recall_16: 0.6586\n",
      "Epoch 4/30\n",
      "191/191 [==============================] - 0s 1ms/step - loss: 0.2880 - accuracy: 0.9008 - precision_19: 0.9368 - recall_16: 0.8248 - val_loss: 0.4599 - val_accuracy: 0.7991 - val_precision_19: 0.8410 - val_recall_16: 0.6631\n",
      "Epoch 5/30\n",
      "191/191 [==============================] - 0s 1ms/step - loss: 0.2155 - accuracy: 0.9301 - precision_19: 0.9651 - recall_16: 0.8659 - val_loss: 0.4643 - val_accuracy: 0.7991 - val_precision_19: 0.8027 - val_recall_16: 0.7130\n",
      "Epoch 6/30\n",
      "191/191 [==============================] - 0s 1ms/step - loss: 0.1720 - accuracy: 0.9512 - precision_19: 0.9848 - recall_16: 0.8991 - val_loss: 0.4806 - val_accuracy: 0.7984 - val_precision_19: 0.7924 - val_recall_16: 0.7266\n",
      "Epoch 7/30\n",
      "191/191 [==============================] - 0s 1ms/step - loss: 0.1276 - accuracy: 0.9687 - precision_19: 0.9860 - recall_16: 0.9414 - val_loss: 0.5044 - val_accuracy: 0.7951 - val_precision_19: 0.8277 - val_recall_16: 0.6677\n"
     ]
    }
   ],
   "source": [
    "num_epochs = 30\n",
    "history = model.fit(training_padded, df_train['target'], epochs=num_epochs, validation_data=(testing_padded, df_test['target']),\n",
    "                   callbacks=[callback])"
   ]
  },
  {
   "cell_type": "code",
   "execution_count": 129,
   "id": "911ede11-4751-4a2b-aa4f-f2295248af95",
   "metadata": {},
   "outputs": [],
   "source": [
    "# continue from here "
   ]
  },
  {
   "cell_type": "code",
   "execution_count": 130,
   "id": "423b4e78-060b-49e6-b89e-d3ccfdedc6ac",
   "metadata": {},
   "outputs": [],
   "source": [
    "test_target_pred = (model.predict(testing_padded) > 0.5).astype(int)\n",
    "# test_target_pred_class = model.predict_classes(testing_padded)"
   ]
  },
  {
   "cell_type": "code",
   "execution_count": 131,
   "id": "5eaf3b45-0364-4d17-845d-e9a2ca375dc7",
   "metadata": {},
   "outputs": [
    {
     "name": "stdout",
     "output_type": "stream",
     "text": [
      "accuracy: 0.7951411687458962\n",
      "precision: 0.8277153558052435\n",
      "recall: 0.6676737160120846\n",
      "f1: 0.7391304347826088\n",
      "auc: 0.7804106094578425\n"
     ]
    }
   ],
   "source": [
    "from sklearn.metrics import precision_score\n",
    "from sklearn.metrics import recall_score\n",
    "from sklearn.metrics import accuracy_score\n",
    "from sklearn.metrics import roc_auc_score\n",
    "from sklearn.metrics import f1_score\n",
    "\n",
    "print('accuracy: ' + str(accuracy_score(y_pred=test_target_pred, y_true=df_test['target'])))\n",
    "print('precision: ' +  str(precision_score(y_pred=test_target_pred, y_true=df_test['target'])))\n",
    "print('recall: ' + str(recall_score(y_pred=test_target_pred, y_true=df_test['target'])))\n",
    "print('f1: ' +  str(f1_score(y_pred=test_target_pred, y_true=df_test['target'])))\n",
    "print('auc: ' +  str(roc_auc_score(y_score=test_target_pred, y_true=df_test['target'])))\n"
   ]
  },
  {
   "cell_type": "code",
   "execution_count": 120,
   "id": "1f896ab6-ac2b-4c0e-902a-1ca747322d5d",
   "metadata": {},
   "outputs": [
    {
     "data": {
      "text/plain": [
       "['loss', 'accuracy', 'precision_18', 'recall_15']"
      ]
     },
     "execution_count": 120,
     "metadata": {},
     "output_type": "execute_result"
    }
   ],
   "source": [
    "model.metrics_names"
   ]
  },
  {
   "cell_type": "code",
   "execution_count": 123,
   "id": "86cb427f-70c7-47af-866c-1b115b4aeb9d",
   "metadata": {},
   "outputs": [
    {
     "name": "stdout",
     "output_type": "stream",
     "text": [
      "48/48 [==============================] - 0s 579us/step - loss: 0.4503 - accuracy: 0.8024 - precision_18: 0.8312 - recall_15: 0.6843\n",
      "Loss:  0.4502756893634796\n",
      "Accuracy:  0.8023637533187866\n",
      "precision:  0.831192672252655\n",
      "recall:  0.6842900514602661\n"
     ]
    }
   ],
   "source": [
    "loss, accuracy, precision, recall = model.evaluate(x=testing_padded, y = df_test['target'])\n",
    "\n",
    "print(\"Loss: \", loss)\n",
    "print(\"Accuracy: \", accuracy)\n",
    "print('precision: ', precision)\n",
    "print('recall: ', recall)\n"
   ]
  },
  {
   "cell_type": "code",
   "execution_count": 132,
   "id": "1f203add-7b6d-40ff-80f7-2a4aa95e3e1f",
   "metadata": {},
   "outputs": [
    {
     "data": {
      "text/plain": [
       "dict_keys(['loss', 'accuracy', 'precision_19', 'recall_16', 'val_loss', 'val_accuracy', 'val_precision_19', 'val_recall_16'])"
      ]
     },
     "execution_count": 132,
     "metadata": {},
     "output_type": "execute_result"
    }
   ],
   "source": [
    "history_dict = history.history\n",
    "history_dict.keys()"
   ]
  },
  {
   "cell_type": "code",
   "execution_count": 133,
   "id": "5b0c289b-bebc-4622-9a8b-a86434464421",
   "metadata": {},
   "outputs": [
    {
     "data": {
      "image/png": "[encoded data removed]",
      "text/plain": [
       "<Figure size 432x288 with 1 Axes>"
      ]
     },
     "metadata": {
      "needs_background": "light"
     },
     "output_type": "display_data"
    }
   ],
   "source": [
    "import matplotlib.pyplot as plt\n",
    "acc = history_dict['accuracy']\n",
    "val_acc = history_dict['val_accuracy']\n",
    "loss = history_dict['loss']\n",
    "val_loss = history_dict['val_loss']\n",
    "\n",
    "epochs = range(1, len(acc) + 1)\n",
    "\n",
    "# \"bo\" is for \"blue dot\"\n",
    "plt.plot(epochs, loss, 'bo', label='Training loss')\n",
    "# b is for \"solid blue line\"\n",
    "plt.plot(epochs, val_loss, 'b', label='Validation loss')\n",
    "plt.title('Training and validation loss')\n",
    "plt.xlabel('Epochs')\n",
    "plt.ylabel('Loss')\n",
    "plt.legend()\n",
    "\n",
    "plt.show()"
   ]
  },
  {
   "cell_type": "code",
   "execution_count": 134,
   "id": "0e2cd24b-68c7-466b-b9e8-4641cde23a81",
   "metadata": {},
   "outputs": [
    {
     "data": {
      "text/plain": [
       "<matplotlib.legend.Legend at 0x7f890dd15f40>"
      ]
     },
     "execution_count": 134,
     "metadata": {},
     "output_type": "execute_result"
    },
    {
     "data": {
      "image/png": "[encoded data removed]",
      "text/plain": [
       "<Figure size 432x288 with 1 Axes>"
      ]
     },
     "metadata": {
      "needs_background": "light"
     },
     "output_type": "display_data"
    }
   ],
   "source": [
    "plt.plot(epochs, acc, 'bo', label='Training acc')\n",
    "plt.plot(epochs, val_acc, 'b', label='Validation acc')\n",
    "plt.title('Training and validation accuracy')\n",
    "plt.xlabel('Epochs')\n",
    "plt.ylabel('Accuracy')\n",
    "plt.legend(loc='lower right')"
   ]
  },
  {
   "cell_type": "code",
   "execution_count": 74,
   "id": "7ad7b132-87e0-4ec4-9702-bbad7107dd3d",
   "metadata": {},
   "outputs": [],
   "source": [
    "# for ele, text in ds_test_raw.take(-1):\n",
    "#     print(ele)\n",
    "\n",
    "# t = ds_test_raw.map(lambda x, y: x.numpy())"
   ]
  }
 ],
 "metadata": {
  "kernelspec": {
   "display_name": "Python 3",
   "language": "python",
   "name": "python3"
  },
  "language_info": {
   "codemirror_mode": {
    "name": "ipython",
    "version": 3
   },
   "file_extension": ".py",
   "mimetype": "text/x-python",
   "name": "python",
   "nbconvert_exporter": "python",
   "pygments_lexer": "ipython3",
   "version": "3.8.8"
  }
 },
 "nbformat": 4,
 "nbformat_minor": 5
}
